{
 "cells": [
  {
   "cell_type": "code",
   "execution_count": 1,
   "metadata": {},
   "outputs": [],
   "source": [
    "%load_ext autoreload\n",
    "%autoreload 2"
   ]
  },
  {
   "cell_type": "code",
   "execution_count": 2,
   "metadata": {},
   "outputs": [
    {
     "name": "stdout",
     "output_type": "stream",
     "text": [
      "3.7.6 (default, Jan  8 2020, 19:59:22) \n",
      "[GCC 7.3.0]\n"
     ]
    }
   ],
   "source": [
    "import sys\n",
    "print(sys.version)"
   ]
  },
  {
   "cell_type": "code",
   "execution_count": 3,
   "metadata": {},
   "outputs": [],
   "source": [
    "import math\n",
    "import os\n",
    "import pickle\n",
    "import random\n",
    "from datetime import datetime\n",
    "\n",
    "import numpy as np\n",
    "import torch\n",
    "from matplotlib import pyplot as plt\n",
    "from music21 import converter\n",
    "from torch import nn\n",
    "from torch.nn import functional as F\n",
    "from torch.nn.utils import clip_grad_norm_\n",
    "from torch.nn.utils.rnn import pad_sequence\n",
    "from torch.utils.data import Dataset, DataLoader\n",
    "from torch.utils.tensorboard import SummaryWriter\n",
    "from tqdm.notebook import trange, tqdm\n",
    "from IPython.display import display, Audio\n",
    "\n",
    "from utils import decode_midi"
   ]
  },
  {
   "cell_type": "code",
   "execution_count": 4,
   "metadata": {},
   "outputs": [
    {
     "name": "stdout",
     "output_type": "stream",
     "text": [
      "Device: cuda\n"
     ]
    }
   ],
   "source": [
    "device = torch.device(\"cuda\") if torch.cuda.is_available() else torch.device(\"cpu\")\n",
    "print(f\"Device: {device}\")"
   ]
  },
  {
   "cell_type": "code",
   "execution_count": 5,
   "metadata": {},
   "outputs": [],
   "source": [
    "torch.manual_seed(0);"
   ]
  },
  {
   "cell_type": "markdown",
   "metadata": {},
   "source": [
    "## Data processing"
   ]
  },
  {
   "cell_type": "code",
   "execution_count": 6,
   "metadata": {},
   "outputs": [],
   "source": [
    "DATA_ROOT = \"data/pop_pickle\"\n",
    "N_SAMPLES = 909\n",
    "VOCAB_SIZE = 390\n",
    "BOS_TOKEN = VOCAB_SIZE - 2\n",
    "PAD_TOKEN = VOCAB_SIZE - 1"
   ]
  },
  {
   "cell_type": "code",
   "execution_count": 7,
   "metadata": {},
   "outputs": [],
   "source": [
    "dataset = []\n",
    "for i in range(N_SAMPLES):\n",
    "    file_name = str(i + 1).zfill(3) + \".pickle\"\n",
    "    path = os.path.join(DATA_ROOT, file_name)\n",
    "    with open(path, \"rb\") as f:\n",
    "        seq = pickle.load(f)\n",
    "        seq_tensor = torch.LongTensor(seq)\n",
    "    dataset.append(seq_tensor)"
   ]
  },
  {
   "cell_type": "code",
   "execution_count": 8,
   "metadata": {},
   "outputs": [
    {
     "data": {
      "image/png": "[encoded data removed]",
      "text/plain": [
       "<Figure size 432x288 with 1 Axes>"
      ]
     },
     "metadata": {
      "needs_background": "light"
     },
     "output_type": "display_data"
    }
   ],
   "source": [
    "seq_lens = [len(seq) for seq in dataset]\n",
    "\n",
    "plt.figure()\n",
    "plt.hist(seq_lens, bins=25)\n",
    "plt.show()"
   ]
  },
  {
   "cell_type": "code",
   "execution_count": 9,
   "metadata": {},
   "outputs": [
    {
     "name": "stdout",
     "output_type": "stream",
     "text": [
      "Train: 819 \t Val: 45 \t Test: 45\n"
     ]
    }
   ],
   "source": [
    "N_VAL = N_TEST = int(0.05 * 909)\n",
    "N_TRAIN = 909 - (N_VAL + N_TEST)\n",
    "\n",
    "train_songs = dataset[:N_TRAIN]\n",
    "val_songs = dataset[N_TRAIN:N_TRAIN+N_VAL]\n",
    "test_songs = dataset[N_TRAIN+N_VAL:]\n",
    "\n",
    "print(f\"Train: {len(train_songs)} \\t Val: {len(val_songs)} \\t Test: {len(test_songs)}\")"
   ]
  },
  {
   "cell_type": "code",
   "execution_count": 10,
   "metadata": {},
   "outputs": [],
   "source": [
    "def batchify(seq, new_seq_len):\n",
    "    \"\"\"\n",
    "    Convert a sequence into a batch of equal-length sequences,\n",
    "    and prepend a BOS token at the start of every sequence.\n",
    "    \n",
    "    Unless new_seq_len perfectly divides the number of tokens\n",
    "    in seq, the last sequence will be padded with PAD_TOKENs.\n",
    "    \"\"\"\n",
    "    n = seq.numel() % new_seq_len\n",
    "    pad_size = 0 if n == 0 else new_seq_len - n\n",
    "    pad = torch.full(size=(pad_size,), fill_value=PAD_TOKEN)\n",
    "    seq = torch.cat([seq, pad])\n",
    "    assert seq.numel() % new_seq_len == 0\n",
    "    num_batches = int(seq.numel() / new_seq_len)\n",
    "    batch = seq.view(num_batches, -1)\n",
    "    bos = torch.full(size=(num_batches, 1), fill_value=BOS_TOKEN)\n",
    "    batch = torch.cat([bos, batch], dim=1)    \n",
    "    return batch"
   ]
  },
  {
   "cell_type": "code",
   "execution_count": 11,
   "metadata": {},
   "outputs": [
    {
     "name": "stdout",
     "output_type": "stream",
     "text": [
      "Train: 6166 \t Val: 355 \t Test: 336\n"
     ]
    }
   ],
   "source": [
    "SEQ_LEN = 1024\n",
    "\n",
    "train_data = torch.cat([batchify(seq, SEQ_LEN) for seq in train_songs])\n",
    "val_data = torch.cat([batchify(seq, SEQ_LEN) for seq in val_songs])\n",
    "test_data = torch.cat([batchify(seq, SEQ_LEN) for seq in test_songs])\n",
    "\n",
    "print(f\"Train: {len(train_data)} \\t Val: {len(val_data)} \\t Test: {len(test_data)}\")"
   ]
  },
  {
   "cell_type": "markdown",
   "metadata": {},
   "source": [
    "## Training an LSTM model"
   ]
  },
  {
   "cell_type": "code",
   "execution_count": 12,
   "metadata": {},
   "outputs": [],
   "source": [
    "class MusicRNN(nn.Module):\n",
    "    def __init__(self, embedding_dim, hidden_dim, vocab_size, rnn_type=\"lstm\", num_layers=1, dropout=0.0):\n",
    "        assert rnn_type in [\"lstm\", \"gru\"]\n",
    "\n",
    "        super().__init__()\n",
    "\n",
    "        self.embedding_dim = embedding_dim\n",
    "        self.hidden_dim = hidden_dim\n",
    "        self.vocab_size = vocab_size\n",
    "        self.rnn_type = rnn_type\n",
    "        self.num_layers = num_layers\n",
    "        self.dropout = dropout\n",
    "\n",
    "        self.embeddings = nn.Embedding(vocab_size, embedding_dim)\n",
    "        if rnn_type == \"lstm\":\n",
    "            self.rnn = nn.LSTM(embedding_dim, hidden_dim, num_layers, dropout=dropout, batch_first=True) \n",
    "        else:\n",
    "            self.rnn = nn.GRU(embedding_dim, hidden_dim, num_layers, dropout=dropout, batch_first=True)\n",
    "        self.fc = nn.Linear(hidden_dim, vocab_size)\n",
    "    \n",
    "        self.hidden_state = None\n",
    "\n",
    "    def forward(self, x, reset_hidden_state=True):\n",
    "        x = self.embeddings(x)\n",
    "        if reset_hidden_state:\n",
    "            x, _ = self.rnn(x)\n",
    "        else:\n",
    "            x, self.hidden_state = self.rnn(x, self.hidden_state)\n",
    "        x = self.fc(x)\n",
    "        return x\n",
    "\n",
    "    def generate_sequence(self, seq_start=None, max_length=1024, **kwargs):\n",
    "        if not seq_start:\n",
    "            seq_start = [BOS_TOKEN]\n",
    "        seq = seq_start.copy()\n",
    "        with torch.no_grad():\n",
    "            next_token = self._generate_next_token(\n",
    "                next_input=torch.LongTensor(seq).to(device),\n",
    "                reset_hidden=True,\n",
    "                **kwargs\n",
    "            )\n",
    "            while len(seq) <= max_length:\n",
    "                next_token = self._generate_next_token(\n",
    "                    next_input=torch.LongTensor([next_token]).to(device),\n",
    "                    reset_hidden=False,\n",
    "                    **kwargs\n",
    "                )\n",
    "                seq.append(next_token)\n",
    "        return seq\n",
    "    \n",
    "    def _generate_next_token(self, next_input, reset_hidden=False, temp=1.0, topk=5, argmax=False):\n",
    "        # The model expects a batch input, so we add a fake batch dimension.\n",
    "        model_input = next_input.unsqueeze(0)\n",
    "        # Then, we need to remove the fake batch dimension from the output.\n",
    "        model_output = self(model_input, reset_hidden).squeeze(0)\n",
    "        next_token_probs = F.softmax(model_output[-1] / temp, dim=0)\n",
    "        if argmax:\n",
    "            next_token = torch.argmax(next_token_probs)\n",
    "        else:\n",
    "            top_tokens = torch.topk(next_token_probs, topk)\n",
    "            top_indices = top_tokens.indices\n",
    "            top_probs = top_tokens.values\n",
    "            top_probs /= torch.sum(top_probs)\n",
    "            next_token = np.random.choice(top_indices.cpu().numpy(), p=top_probs.cpu().numpy())\n",
    "        return next_token.item()"
   ]
  },
  {
   "cell_type": "code",
   "execution_count": 13,
   "metadata": {},
   "outputs": [],
   "source": [
    "def validate(model, data_loader):\n",
    "    model.eval()\n",
    "    with torch.no_grad():\n",
    "        total_loss = 0.0\n",
    "        for batch in data_loader:\n",
    "            batch = batch.to(device)\n",
    "            x = batch[:, :-1]\n",
    "            y = batch[:, 1:]\n",
    "            y_hat = model(x)\n",
    "            y_hat = y_hat.transpose(1, 2)\n",
    "            loss = loss_function(y_hat, y)\n",
    "            total_loss += loss.item()\n",
    "        ppl = math.exp(total_loss / len(data_loader))\n",
    "        return ppl\n",
    "\n",
    "def remove_special_tokens(seq):\n",
    "    return [token for token in seq if token not in [BOS_TOKEN, PAD_TOKEN]]\n",
    "\n",
    "def display_audio(seq, outfile):\n",
    "    seq = remove_special_tokens(seq)\n",
    "    decode_midi(seq, outfile)\n",
    "    stream = converter.parse(outfile)\n",
    "    stream.show(\"midi\")"
   ]
  },
  {
   "cell_type": "code",
   "execution_count": 14,
   "metadata": {},
   "outputs": [],
   "source": [
    "NUM_LAYERS = 1\n",
    "EMBEDDING_DIM = 256\n",
    "HIDDEN_DIM = 512\n",
    "NUM_EPOCHS = 250\n",
    "LEARNING_RATE = 1e-3\n",
    "BATCH_SIZE = 64\n",
    "CLIPPING_THRESHOLD = 1.0\n",
    "DROPOUT = 0.0\n",
    "\n",
    "LOG_EVERY_N = 1\n",
    "VAL_EVERY_N = 10\n",
    "SAVE_EVERY_N = 10"
   ]
  },
  {
   "cell_type": "code",
   "execution_count": 15,
   "metadata": {},
   "outputs": [],
   "source": [
    "train_loader = DataLoader(\n",
    "    train_data,\n",
    "    batch_size=BATCH_SIZE,\n",
    "    shuffle=True,\n",
    "    num_workers=2,\n",
    "    collate_fn=torch.stack,\n",
    ")\n",
    "val_loader = DataLoader(\n",
    "    val_data,\n",
    "    batch_size=BATCH_SIZE,\n",
    "    shuffle=False,\n",
    "    num_workers=2,\n",
    "    collate_fn=torch.stack,\n",
    ")"
   ]
  },
  {
   "cell_type": "code",
   "execution_count": null,
   "metadata": {},
   "outputs": [],
   "source": [
    "model = MusicRNN(\n",
    "    embedding_dim=EMBEDDING_DIM,\n",
    "    hidden_dim=HIDDEN_DIM,\n",
    "    vocab_size=VOCAB_SIZE,\n",
    "    rnn_type=\"lstm\",\n",
    "    num_layers=NUM_LAYERS,\n",
    "    dropout=DROPOUT,\n",
    ").to(device)\n",
    "loss_function = nn.CrossEntropyLoss(ignore_index=PAD_TOKEN)\n",
    "optimizer = torch.optim.Adam(model.parameters(), lr=LEARNING_RATE)"
   ]
  },
  {
   "cell_type": "code",
   "execution_count": null,
   "metadata": {},
   "outputs": [],
   "source": [
    "print(model)"
   ]
  },
  {
   "cell_type": "code",
   "execution_count": null,
   "metadata": {},
   "outputs": [],
   "source": [
    "now = datetime.now().strftime(\"%Y-%m-%d_%H:%M\")\n",
    "exp_name = (\n",
    "    f\"{model.rnn_type}({EMBEDDING_DIM},{HIDDEN_DIM}),\"\n",
    "    f\"lr={LEARNING_RATE},bsz={BATCH_SIZE},nepochs={NUM_EPOCHS},\"\n",
    "    f\"sl={SEQ_LEN},dropout={DROPOUT},t={now}\"\n",
    ")\n",
    "writer = SummaryWriter(f\"runs/{exp_name}\")"
   ]
  },
  {
   "cell_type": "code",
   "execution_count": null,
   "metadata": {},
   "outputs": [],
   "source": [
    "for epoch in range(1, NUM_EPOCHS + 1):\n",
    "    model.train()\n",
    "    total_loss = 0.0\n",
    "    for batch in tqdm(train_loader):\n",
    "        # Move to GPU if available.\n",
    "        batch = batch.to(device)\n",
    "\n",
    "        # Reset gradients.\n",
    "        model.zero_grad()\n",
    "\n",
    "        # Prepare inputs and targets.\n",
    "        x = batch[:, :-1]\n",
    "        y = batch[:, 1:]\n",
    "                \n",
    "        # Forward prop.\n",
    "        y_hat = model(x)\n",
    "        \n",
    "        # Swap token dim and output dim.\n",
    "        y_hat = y_hat.transpose(1, 2)\n",
    "        \n",
    "        # Compute loss.\n",
    "        loss = loss_function(y_hat, y)\n",
    "        total_loss += loss.item()\n",
    "\n",
    "        # Back prop.\n",
    "        loss.backward()\n",
    "        \n",
    "        # Clip gradients.\n",
    "        clip_grad_norm_(model.parameters(), CLIPPING_THRESHOLD)\n",
    "        \n",
    "        # Update parameters.\n",
    "        optimizer.step()\n",
    "        \n",
    "    if epoch % LOG_EVERY_N == 0:\n",
    "        avg_loss = total_loss / len(train_loader)  # per token loss\n",
    "        writer.add_scalar(\"train_loss\", avg_loss, global_step=epoch)\n",
    "        \n",
    "        train_ppl = math.exp(avg_loss)\n",
    "        writer.add_scalar(\"train_ppl\", train_ppl, global_step=epoch)\n",
    "\n",
    "    if epoch % VAL_EVERY_N == 0:\n",
    "        val_ppl = validate(model, val_loader)\n",
    "        writer.add_scalar(\"val_ppl\", val_ppl, global_step=epoch)\n",
    "        seq = model.generate_sequence(temp=1.0, topk=32)\n",
    "        display_audio(seq)\n",
    "\n",
    "    if epoch % SAVE_EVERY_N == 0:\n",
    "        state_checkpoint = {\n",
    "            \"epoch\": epoch,\n",
    "            \"model_state_dict\": model.state_dict(),\n",
    "            \"optimizer_state_dict\": optimizer.state_dict(),\n",
    "        }\n",
    "        torch.save(state_checkpoint, f\"models/lstm_checkpoints/ckpt_{epoch}.pt\")"
   ]
  },
  {
   "cell_type": "markdown",
   "metadata": {},
   "source": [
    "## Training a transformer model"
   ]
  },
  {
   "cell_type": "code",
   "execution_count": null,
   "metadata": {},
   "outputs": [],
   "source": [
    "import time\n",
    "\n",
    "from music_transformer import custom\n",
    "from music_transformer import utils\n",
    "from music_transformer.custom.metrics import *\n",
    "from music_transformer.custom.criterion import SmoothCrossEntropyLoss, CustomSchedule\n",
    "from music_transformer.custom.config import config\n",
    "from music_transformer.data import Data\n",
    "from music_transformer.model import MusicTransformer"
   ]
  },
  {
   "cell_type": "code",
   "execution_count": null,
   "metadata": {},
   "outputs": [],
   "source": [
    "def validate_transformer(transformer, data_loader):\n",
    "    transformer.eval()\n",
    "    val_loss = nn.CrossEntropyLoss(ignore_index=PAD_TOKEN)\n",
    "    with torch.no_grad():\n",
    "        total_loss = 0.0\n",
    "        for batch in data_loader:\n",
    "            batch = batch.to(device)\n",
    "            x = batch[:, :-1]\n",
    "            y = batch[:, 1:]\n",
    "            y_hat = transformer(x).transpose(1, 2)\n",
    "            loss = val_loss(y_hat, y)\n",
    "            total_loss += loss.item()\n",
    "        ppl = math.exp(total_loss / len(data_loader))\n",
    "        return ppl"
   ]
  },
  {
   "cell_type": "code",
   "execution_count": null,
   "metadata": {},
   "outputs": [],
   "source": [
    "NUM_LAYERS = 4\n",
    "EMBEDDING_DIM = 256\n",
    "NUM_EPOCHS = 1000\n",
    "LEARNING_RATE = 1e-3\n",
    "BATCH_SIZE = 8\n",
    "DROPOUT = 0.1\n",
    "LABEL_SMOOTHING = 0.1\n",
    "\n",
    "LOG_EVERY_N = 1\n",
    "VAL_EVERY_N = 2\n",
    "SAVE_EVERY_N = 10"
   ]
  },
  {
   "cell_type": "code",
   "execution_count": null,
   "metadata": {},
   "outputs": [],
   "source": [
    "train_loader = DataLoader(\n",
    "    train_data,\n",
    "    batch_size=BATCH_SIZE,\n",
    "    shuffle=True,\n",
    "    num_workers=2,\n",
    "    collate_fn=torch.stack,\n",
    ")\n",
    "val_loader = DataLoader(\n",
    "    val_data,\n",
    "    batch_size=BATCH_SIZE,\n",
    "    shuffle=False,\n",
    "    num_workers=2,\n",
    "    collate_fn=torch.stack,\n",
    ")"
   ]
  },
  {
   "cell_type": "code",
   "execution_count": null,
   "metadata": {},
   "outputs": [],
   "source": [
    "transformer = MusicTransformer(\n",
    "    embedding_dim=EMBEDDING_DIM,\n",
    "    vocab_size=VOCAB_SIZE,\n",
    "    num_layer=NUM_LAYERS,\n",
    "    max_seq=SEQ_LEN,\n",
    "    dropout=DROPOUT,\n",
    ").to(device)\n",
    "\n",
    "print(transformer)"
   ]
  },
  {
   "cell_type": "code",
   "execution_count": null,
   "metadata": {},
   "outputs": [],
   "source": [
    "optimizer = torch.optim.Adam(transformer.parameters(), lr=0, betas=(0.9, 0.98), eps=1e-9)\n",
    "scheduler = CustomSchedule(EMBEDDING_DIM, optimizer=optimizer)\n",
    "loss_function = SmoothCrossEntropyLoss(LABEL_SMOOTHING, VOCAB_SIZE, PAD_TOKEN)\n",
    "val_loss = nn.CrossEntropyLoss(ignore_index=PAD_TOKEN)"
   ]
  },
  {
   "cell_type": "code",
   "execution_count": null,
   "metadata": {},
   "outputs": [],
   "source": [
    "now = datetime.now().strftime(\"%Y-%m-%d_%H:%M\")\n",
    "exp_name = (\n",
    "    f\"Transformer({EMBEDDING_DIM},{VOCAB_SIZE},{NUM_LAYERS}),\"\n",
    "    f\"lr={LEARNING_RATE},bsz={BATCH_SIZE},nepochs={NUM_EPOCHS},\"\n",
    "    f\"sl={SEQ_LEN},dropout={DROPOUT},t={now}\"\n",
    ")\n",
    "writer = SummaryWriter(f\"runs/{exp_name}\")"
   ]
  },
  {
   "cell_type": "code",
   "execution_count": null,
   "metadata": {},
   "outputs": [],
   "source": [
    "for epoch in range(NUM_EPOCHS):\n",
    "    transformer.train()\n",
    "    total_loss = 0.0\n",
    "    for batch in tqdm(train_loader):\n",
    "        # Move to GPU if available.\n",
    "        batch = batch.to(device)\n",
    "\n",
    "        # Reset gradients.\n",
    "        transformer.zero_grad()\n",
    "        \n",
    "        # Prepare inputs and targets.\n",
    "        x = batch[:, :-1]\n",
    "        y = batch[:, 1:]\n",
    "\n",
    "        # Forward prop.\n",
    "        y_hat = transformer(x)\n",
    "\n",
    "        loss = loss_function(y_hat, y)\n",
    "        total_loss += loss.item()\n",
    "        \n",
    "        # Back prop.\n",
    "        loss.backward()\n",
    "\n",
    "        # Step scheduler (and optimizer).\n",
    "        scheduler.step()\n",
    "        \n",
    "    if epoch % LOG_EVERY_N == 0:\n",
    "        avg_loss = total_loss / len(train_loader)  # per token loss\n",
    "        writer.add_scalar(\"train_loss\", avg_loss, global_step=epoch)\n",
    "    \n",
    "    if epoch % VAL_EVERY_N == 0:\n",
    "        ppl = validate_transformer(transformer, val_loader)\n",
    "        writer.add_scalar(\"val_ppl\", ppl, global_step=epoch)\n",
    "        \n",
    "        primer = torch.LongTensor([[BOS_TOKEN]]).to(device)\n",
    "        seq = transformer.generate(primer, length=1024)\n",
    "        display_audio(seq.tolist())\n",
    "\n",
    "    if epoch % SAVE_EVERY_N == 0:\n",
    "        state_checkpoint = {\n",
    "            \"epoch\": epoch,\n",
    "            \"model_state_dict\": transformer.state_dict(),\n",
    "            \"optimizer_state_dict\": optimizer.state_dict(),\n",
    "        }\n",
    "        torch.save(state_checkpoint, f\"models/checkpoints/ckpt_{epoch}.pt\")"
   ]
  },
  {
   "cell_type": "code",
   "execution_count": null,
   "metadata": {},
   "outputs": [],
   "source": [
    "state_checkpoint = {\n",
    "    \"epoch\": epoch,\n",
    "    \"model_state_dict\": transformer.state_dict(),\n",
    "    \"optimizer_state_dict\": optimizer.state_dict(),\n",
    "}\n",
    "torch.save(state_checkpoint, f\"models/Transformer(256,390,4),lr=0.001,bsz=8,nepochs=1000,sl=1024,dropout=0.1,t=2020-11-14_12:52.pt\")"
   ]
  },
  {
   "cell_type": "markdown",
   "metadata": {},
   "source": [
    "## Model evaluation"
   ]
  },
  {
   "cell_type": "code",
   "execution_count": 158,
   "metadata": {},
   "outputs": [
    {
     "data": {
      "text/plain": [
       "<All keys matched successfully>"
      ]
     },
     "execution_count": 158,
     "metadata": {},
     "output_type": "execute_result"
    }
   ],
   "source": [
    "model_old = MusicRNN(\n",
    "    embedding_dim=EMBEDDING_DIM,\n",
    "    hidden_dim=HIDDEN_DIM,\n",
    "    vocab_size=VOCAB_SIZE,\n",
    "    rnn_type=\"lstm\",\n",
    "    num_layers=NUM_LAYERS,\n",
    "    dropout=DROPOUT,\n",
    ").to(device)\n",
    "state_dict = torch.load(\"models/ckpt_200.pt\")[\"model_state_dict\"]\n",
    "model_old.load_state_dict(state_dict)"
   ]
  },
  {
   "cell_type": "code",
   "execution_count": 168,
   "metadata": {},
   "outputs": [
    {
     "data": {
      "text/plain": [
       "25"
      ]
     },
     "execution_count": 168,
     "metadata": {},
     "output_type": "execute_result"
    }
   ],
   "source": [
    "keys\n",
    "len(keys)"
   ]
  },
  {
   "cell_type": "code",
   "execution_count": 167,
   "metadata": {},
   "outputs": [
    {
     "data": {
      "text/plain": [
       "25"
      ]
     },
     "execution_count": 167,
     "metadata": {},
     "output_type": "execute_result"
    }
   ],
   "source": [
    "winners = [2, 2, 1, 1, 2, 2, 1, 1, 2, 2, 1, 2, 2, 2, 2, 2, 2, 2, 1, 2, 2, 2, 2, 1, 2]\n",
    "len(winners)"
   ]
  },
  {
   "cell_type": "code",
   "execution_count": 169,
   "metadata": {},
   "outputs": [
    {
     "name": "stdout",
     "output_type": "stream",
     "text": [
      "9 16\n"
     ]
    }
   ],
   "source": [
    "p1_wins = p2_wins = 0\n",
    "for p1, w in zip(keys, winners):\n",
    "    if p1 == w:\n",
    "        p1_wins += 1\n",
    "    else:\n",
    "        p2_wins += 1\n",
    "\n",
    "print(p1_wins, p2_wins)"
   ]
  },
  {
   "cell_type": "code",
   "execution_count": 164,
   "metadata": {},
   "outputs": [
    {
     "name": "stdout",
     "output_type": "stream",
     "text": [
      "Test song 20\n"
     ]
    },
    {
     "data": {
      "text/html": [
       "\n",
       "                <div id='midiPlayerDiv297840'></div>\n",
       "                <link rel=\"stylesheet\" href=\"//cuthbertLab.github.io/music21j/css/m21.css\"\n",
       "                    type=\"text/css\" />\n",
       "                <script>\n",
       "                require.config({\n",
       "                    paths: {'music21': '//cuthbertLab.github.io/music21j/src/music21'}\n",
       "                });\n",
       "                require(['music21'], function() {\n",
       "                               mp = new music21.miditools.MidiPlayer();\n",
       "                               mp.addPlayer('#midiPlayerDiv297840');\n",
       "                               mp.base64Load('data:audio/midi;base64,TVRoZAAAAAYAAQABBABNVHJrAAABEwD/AwAA4ABAAMAAAP9RAwehIAD/WAQEAhgImgCQKTiCAJBBUACQNUiBK5A4QFWQPESKAJBPRIQAgEEAiACATwAAkFBUiSuQTVCEAIBQAIQAgE0AAJBPUIZVkEtQgSuATwCCVZBNUIErgEsAhACATQAAkEpQglWQS1CBK4BKAIJVgEsAAJBIUIQAgEgAAJBKUIJVkEZQgSuASgCCAJBIUFWARgCCAIBIAIErkERQggCQRlCCAIBEAIIAgEYAAJBDUIIAkERQVYBDAIgAkEFQgSuARACCAIA8AFWANQBWgDgAVYApAFWAQQCBK5BDUIhVkD5QgSuAQwCOAJA6UFWAPgCRK4A6AACQPFClK4A8AIgA/y8A');\n",
       "                        });\n",
       "                </script>"
      ],
      "text/plain": [
       "<IPython.core.display.HTML object>"
      ]
     },
     "metadata": {},
     "output_type": "display_data"
    },
    {
     "data": {
      "text/html": [
       "\n",
       "                <div id='midiPlayerDiv300640'></div>\n",
       "                <link rel=\"stylesheet\" href=\"//cuthbertLab.github.io/music21j/css/m21.css\"\n",
       "                    type=\"text/css\" />\n",
       "                <script>\n",
       "                require.config({\n",
       "                    paths: {'music21': '//cuthbertLab.github.io/music21j/src/music21'}\n",
       "                });\n",
       "                require(['music21'], function() {\n",
       "                               mp = new music21.miditools.MidiPlayer();\n",
       "                               mp.addPlayer('#midiPlayerDiv300640');\n",
       "                               mp.base64Load('data:audio/midi;base64,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');\n",
       "                        });\n",
       "                </script>"
      ],
      "text/plain": [
       "<IPython.core.display.HTML object>"
      ]
     },
     "metadata": {},
     "output_type": "display_data"
    },
    {
     "data": {
      "text/html": [
       "\n",
       "                <div id='midiPlayerDiv303375'></div>\n",
       "                <link rel=\"stylesheet\" href=\"//cuthbertLab.github.io/music21j/css/m21.css\"\n",
       "                    type=\"text/css\" />\n",
       "                <script>\n",
       "                require.config({\n",
       "                    paths: {'music21': '//cuthbertLab.github.io/music21j/src/music21'}\n",
       "                });\n",
       "                require(['music21'], function() {\n",
       "                               mp = new music21.miditools.MidiPlayer();\n",
       "                               mp.addPlayer('#midiPlayerDiv303375');\n",
       "                               mp.base64Load('data:audio/midi;base64,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');\n",
       "                        });\n",
       "                </script>"
      ],
      "text/plain": [
       "<IPython.core.display.HTML object>"
      ]
     },
     "metadata": {},
     "output_type": "display_data"
    },
    {
     "name": "stdout",
     "output_type": "stream",
     "text": [
      "Test song 21\n"
     ]
    },
    {
     "data": {
      "text/html": [
       "\n",
       "                <div id='midiPlayerDiv303826'></div>\n",
       "                <link rel=\"stylesheet\" href=\"//cuthbertLab.github.io/music21j/css/m21.css\"\n",
       "                    type=\"text/css\" />\n",
       "                <script>\n",
       "                require.config({\n",
       "                    paths: {'music21': '//cuthbertLab.github.io/music21j/src/music21'}\n",
       "                });\n",
       "                require(['music21'], function() {\n",
       "                               mp = new music21.miditools.MidiPlayer();\n",
       "                               mp.addPlayer('#midiPlayerDiv303826');\n",
       "                               mp.base64Load('data:audio/midi;base64,TVRoZAAAAAYAAQABBABNVHJrAAABAAD/AwAA4ABAAMAAAP9RAwehIAD/WAQEAhgIkACQLjwAkDo8AJA+PIIAkEY8AJBKSIQAgDoAAIA+AIgAgEYAAIBKAIIAkDpAAJA+RACQRkgAkEpIggCALgAAgDoAAIA+AIhVgEYAgSuASgAAkDU4hACQRUgAkC5AhACANQAAgEUAAJBGSIQAgEYAAJBDRIJVkEZMgSuAQwCCAIAuAACQOkAAkD5EglWAOgAAgD4AggCARgAAkEFIilaQOjwAkCdAAJA3PFWQQ0iCVYBBAIRWgDcAglWAOgCDK4AnAIIAkDowAJA3KIJVgDoAAIA3AIQAkDc4hgCAQwAAgDcAiAD/LwA=');\n",
       "                        });\n",
       "                </script>"
      ],
      "text/plain": [
       "<IPython.core.display.HTML object>"
      ]
     },
     "metadata": {},
     "output_type": "display_data"
    },
    {
     "data": {
      "text/html": [
       "\n",
       "                <div id='midiPlayerDiv306548'></div>\n",
       "                <link rel=\"stylesheet\" href=\"//cuthbertLab.github.io/music21j/css/m21.css\"\n",
       "                    type=\"text/css\" />\n",
       "                <script>\n",
       "                require.config({\n",
       "                    paths: {'music21': '//cuthbertLab.github.io/music21j/src/music21'}\n",
       "                });\n",
       "                require(['music21'], function() {\n",
       "                               mp = new music21.miditools.MidiPlayer();\n",
       "                               mp.addPlayer('#midiPlayerDiv306548');\n",
       "                               mp.base64Load('data:audio/midi;base64,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');\n",
       "                        });\n",
       "                </script>"
      ],
      "text/plain": [
       "<IPython.core.display.HTML object>"
      ]
     },
     "metadata": {},
     "output_type": "display_data"
    },
    {
     "data": {
      "text/html": [
       "\n",
       "                <div id='midiPlayerDiv309318'></div>\n",
       "                <link rel=\"stylesheet\" href=\"//cuthbertLab.github.io/music21j/css/m21.css\"\n",
       "                    type=\"text/css\" />\n",
       "                <script>\n",
       "                require.config({\n",
       "                    paths: {'music21': '//cuthbertLab.github.io/music21j/src/music21'}\n",
       "                });\n",
       "                require(['music21'], function() {\n",
       "                               mp = new music21.miditools.MidiPlayer();\n",
       "                               mp.addPlayer('#midiPlayerDiv309318');\n",
       "                               mp.base64Load('data:audio/midi;base64,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');\n",
       "                        });\n",
       "                </script>"
      ],
      "text/plain": [
       "<IPython.core.display.HTML object>"
      ]
     },
     "metadata": {},
     "output_type": "display_data"
    },
    {
     "name": "stdout",
     "output_type": "stream",
     "text": [
      "Test song 22\n"
     ]
    },
    {
     "data": {
      "text/html": [
       "\n",
       "                <div id='midiPlayerDiv309808'></div>\n",
       "                <link rel=\"stylesheet\" href=\"//cuthbertLab.github.io/music21j/css/m21.css\"\n",
       "                    type=\"text/css\" />\n",
       "                <script>\n",
       "                require.config({\n",
       "                    paths: {'music21': '//cuthbertLab.github.io/music21j/src/music21'}\n",
       "                });\n",
       "                require(['music21'], function() {\n",
       "                               mp = new music21.miditools.MidiPlayer();\n",
       "                               mp.addPlayer('#midiPlayerDiv309808');\n",
       "                               mp.base64Load('data:audio/midi;base64,TVRoZAAAAAYAAQABBABNVHJrAAABBAD/AwAA4ABAAMAAAP9RAwehIAD/WAQEAhgIjSuQMEwAkDxEAJBMUIUqkDdAAJBKVAGATACEVYA8AFWASgAAkD5AAJBMTIYAgD4AAIBMAACQQEgAkE1MggCAMABVgDcAgyuATQAAkDBIAJA8MACQQ0QAkE9QhSuAPABVgEAAAJA3NIIAgEMAggCQPDiIAIA3AFWAMACBK4BPAACAPACCAJAtTACQSECFK4BIAFWQNEAAkEdMhSuARwAAkDs8AJBITIQAgDsAgSqQPDwAkEpQVoBIAIF/gDwAglaQOUAAkEBIAJBMUFWASgCFK4A5AACAQACMVYA0AACATACBK4AtAIgA/y8A');\n",
       "                        });\n",
       "                </script>"
      ],
      "text/plain": [
       "<IPython.core.display.HTML object>"
      ]
     },
     "metadata": {},
     "output_type": "display_data"
    },
    {
     "data": {
      "text/html": [
       "\n",
       "                <div id='midiPlayerDiv312214'></div>\n",
       "                <link rel=\"stylesheet\" href=\"//cuthbertLab.github.io/music21j/css/m21.css\"\n",
       "                    type=\"text/css\" />\n",
       "                <script>\n",
       "                require.config({\n",
       "                    paths: {'music21': '//cuthbertLab.github.io/music21j/src/music21'}\n",
       "                });\n",
       "                require(['music21'], function() {\n",
       "                               mp = new music21.miditools.MidiPlayer();\n",
       "                               mp.addPlayer('#midiPlayerDiv312214');\n",
       "                               mp.base64Load('data:audio/midi;base64,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');\n",
       "                        });\n",
       "                </script>"
      ],
      "text/plain": [
       "<IPython.core.display.HTML object>"
      ]
     },
     "metadata": {},
     "output_type": "display_data"
    },
    {
     "data": {
      "text/html": [
       "\n",
       "                <div id='midiPlayerDiv314461'></div>\n",
       "                <link rel=\"stylesheet\" href=\"//cuthbertLab.github.io/music21j/css/m21.css\"\n",
       "                    type=\"text/css\" />\n",
       "                <script>\n",
       "                require.config({\n",
       "                    paths: {'music21': '//cuthbertLab.github.io/music21j/src/music21'}\n",
       "                });\n",
       "                require(['music21'], function() {\n",
       "                               mp = new music21.miditools.MidiPlayer();\n",
       "                               mp.addPlayer('#midiPlayerDiv314461');\n",
       "                               mp.base64Load('data:audio/midi;base64,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');\n",
       "                        });\n",
       "                </script>"
      ],
      "text/plain": [
       "<IPython.core.display.HTML object>"
      ]
     },
     "metadata": {},
     "output_type": "display_data"
    },
    {
     "name": "stdout",
     "output_type": "stream",
     "text": [
      "Test song 23\n"
     ]
    },
    {
     "data": {
      "text/html": [
       "\n",
       "                <div id='midiPlayerDiv314916'></div>\n",
       "                <link rel=\"stylesheet\" href=\"//cuthbertLab.github.io/music21j/css/m21.css\"\n",
       "                    type=\"text/css\" />\n",
       "                <script>\n",
       "                require.config({\n",
       "                    paths: {'music21': '//cuthbertLab.github.io/music21j/src/music21'}\n",
       "                });\n",
       "                require(['music21'], function() {\n",
       "                               mp = new music21.miditools.MidiPlayer();\n",
       "                               mp.addPlayer('#midiPlayerDiv314916');\n",
       "                               mp.base64Load('data:audio/midi;base64,TVRoZAAAAAYAAQABBABNVHJrAAAA9AD/AwAA4ABAAMAAAP9RAwehIAD/WAQEAhgIpgCQKkAAkEJAhgCQPUSCAIBCAIQAkDk8ggCAPQCEAJA9RIQAkEJIAJBFVFWAOQCBK4AqAIIAgD0AggCARQAAkElYggCAQgCEAIBJAACQKEAAkEBAAJBHTIUrkDtAVYBAAIRVkDhEglaAOwCCVZA7SIUrgCgAVYA7AACQQERVgDgAhSuQO0iCAIBAAIIAkCg8AJBASIIAgEcAAIA7AIQAkDtIggCAQACEAIA7AACQOESGAIA4AACQO0yEAIAoAIIAgDsAAJBASACQQkyCVYBAAIMrgEIAiAD/LwA=');\n",
       "                        });\n",
       "                </script>"
      ],
      "text/plain": [
       "<IPython.core.display.HTML object>"
      ]
     },
     "metadata": {},
     "output_type": "display_data"
    },
    {
     "data": {
      "text/html": [
       "\n",
       "                <div id='midiPlayerDiv317490'></div>\n",
       "                <link rel=\"stylesheet\" href=\"//cuthbertLab.github.io/music21j/css/m21.css\"\n",
       "                    type=\"text/css\" />\n",
       "                <script>\n",
       "                require.config({\n",
       "                    paths: {'music21': '//cuthbertLab.github.io/music21j/src/music21'}\n",
       "                });\n",
       "                require(['music21'], function() {\n",
       "                               mp = new music21.miditools.MidiPlayer();\n",
       "                               mp.addPlayer('#midiPlayerDiv317490');\n",
       "                               mp.base64Load('data:audio/midi;base64,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');\n",
       "                        });\n",
       "                </script>"
      ],
      "text/plain": [
       "<IPython.core.display.HTML object>"
      ]
     },
     "metadata": {},
     "output_type": "display_data"
    },
    {
     "data": {
      "text/html": [
       "\n",
       "                <div id='midiPlayerDiv320160'></div>\n",
       "                <link rel=\"stylesheet\" href=\"//cuthbertLab.github.io/music21j/css/m21.css\"\n",
       "                    type=\"text/css\" />\n",
       "                <script>\n",
       "                require.config({\n",
       "                    paths: {'music21': '//cuthbertLab.github.io/music21j/src/music21'}\n",
       "                });\n",
       "                require(['music21'], function() {\n",
       "                               mp = new music21.miditools.MidiPlayer();\n",
       "                               mp.addPlayer('#midiPlayerDiv320160');\n",
       "                               mp.base64Load('data:audio/midi;base64,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');\n",
       "                        });\n",
       "                </script>"
      ],
      "text/plain": [
       "<IPython.core.display.HTML object>"
      ]
     },
     "metadata": {},
     "output_type": "display_data"
    },
    {
     "name": "stdout",
     "output_type": "stream",
     "text": [
      "Test song 24\n"
     ]
    },
    {
     "data": {
      "text/html": [
       "\n",
       "                <div id='midiPlayerDiv320698'></div>\n",
       "                <link rel=\"stylesheet\" href=\"//cuthbertLab.github.io/music21j/css/m21.css\"\n",
       "                    type=\"text/css\" />\n",
       "                <script>\n",
       "                require.config({\n",
       "                    paths: {'music21': '//cuthbertLab.github.io/music21j/src/music21'}\n",
       "                });\n",
       "                require(['music21'], function() {\n",
       "                               mp = new music21.miditools.MidiPlayer();\n",
       "                               mp.addPlayer('#midiPlayerDiv320698');\n",
       "                               mp.base64Load('data:audio/midi;base64,TVRoZAAAAAYAAQABBABNVHJrAAABDAD/AwAA4ABAAMAAAP9RAwehIAD/WAQEAhgIkgCQUkiCAJArVACQT1CCAIBSAIRVkDI0hSuQN0iGAJA6SIQAgE8AgyuQSliCVZBNVIErgEoAgSqAMgAAkE9QVoA6AFWAKwAAgDcAAIBNAIIAkFFUggCATwBVgFEAgSuQKVAAkFJUhgCQMEiFK5A1WACQUVRVgFIAhgCQOVAAkDwsjyuAUQBVgDAAggCQMEQAkEVUggCANQCCAIA8AACARQAAkEZYggCAOQAAgDAAAJBKVFWAKQAAgEYAgyuASgAAkE9QglWQN0gAkFFQAJA6SIErgE8AhACQRkyCVYA3AACAUQCEAIA6AIErgEYAiAD/LwA=');\n",
       "                        });\n",
       "                </script>"
      ],
      "text/plain": [
       "<IPython.core.display.HTML object>"
      ]
     },
     "metadata": {},
     "output_type": "display_data"
    },
    {
     "data": {
      "text/html": [
       "\n",
       "                <div id='midiPlayerDiv323412'></div>\n",
       "                <link rel=\"stylesheet\" href=\"//cuthbertLab.github.io/music21j/css/m21.css\"\n",
       "                    type=\"text/css\" />\n",
       "                <script>\n",
       "                require.config({\n",
       "                    paths: {'music21': '//cuthbertLab.github.io/music21j/src/music21'}\n",
       "                });\n",
       "                require(['music21'], function() {\n",
       "                               mp = new music21.miditools.MidiPlayer();\n",
       "                               mp.addPlayer('#midiPlayerDiv323412');\n",
       "                               mp.base64Load('data:audio/midi;base64,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');\n",
       "                        });\n",
       "                </script>"
      ],
      "text/plain": [
       "<IPython.core.display.HTML object>"
      ]
     },
     "metadata": {},
     "output_type": "display_data"
    },
    {
     "data": {
      "text/html": [
       "\n",
       "                <div id='midiPlayerDiv326046'></div>\n",
       "                <link rel=\"stylesheet\" href=\"//cuthbertLab.github.io/music21j/css/m21.css\"\n",
       "                    type=\"text/css\" />\n",
       "                <script>\n",
       "                require.config({\n",
       "                    paths: {'music21': '//cuthbertLab.github.io/music21j/src/music21'}\n",
       "                });\n",
       "                require(['music21'], function() {\n",
       "                               mp = new music21.miditools.MidiPlayer();\n",
       "                               mp.addPlayer('#midiPlayerDiv326046');\n",
       "                               mp.base64Load('data:audio/midi;base64,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');\n",
       "                        });\n",
       "                </script>"
      ],
      "text/plain": [
       "<IPython.core.display.HTML object>"
      ]
     },
     "metadata": {},
     "output_type": "display_data"
    },
    {
     "name": "stdout",
     "output_type": "stream",
     "text": [
      "Test song 25\n"
     ]
    },
    {
     "data": {
      "text/html": [
       "\n",
       "                <div id='midiPlayerDiv326362'></div>\n",
       "                <link rel=\"stylesheet\" href=\"//cuthbertLab.github.io/music21j/css/m21.css\"\n",
       "                    type=\"text/css\" />\n",
       "                <script>\n",
       "                require.config({\n",
       "                    paths: {'music21': '//cuthbertLab.github.io/music21j/src/music21'}\n",
       "                });\n",
       "                require(['music21'], function() {\n",
       "                               mp = new music21.miditools.MidiPlayer();\n",
       "                               mp.addPlayer('#midiPlayerDiv326362');\n",
       "                               mp.base64Load('data:audio/midi;base64,TVRoZAAAAAYAAQABBABNVHJrAAAAyAD/AwAA4ABAAMAAAP9RAwehIAD/WAQEAhgIrSuQMFBVkD5IAJA6SACQQ0SHK5A3PFWAPgAAgDoAAIA8AACQPFAAkEBQglWAQwCEVpA8PFWAQAAAkD5QhyuAPABVgDwAAIBAAACQPEAAkEBIggCAPgCDK4A3AIwAgDAAVZA6RACQPkyNK5A1RIJVgDoAAJA5RACQPFCCAIA+AIYAkDBAgyuANQCEVYA5AACAPACEAIAwAI5VkDlAAJBBRIwAgDkAAIBBAIgA/y8A');\n",
       "                        });\n",
       "                </script>"
      ],
      "text/plain": [
       "<IPython.core.display.HTML object>"
      ]
     },
     "metadata": {},
     "output_type": "display_data"
    },
    {
     "data": {
      "text/html": [
       "\n",
       "                <div id='midiPlayerDiv328510'></div>\n",
       "                <link rel=\"stylesheet\" href=\"//cuthbertLab.github.io/music21j/css/m21.css\"\n",
       "                    type=\"text/css\" />\n",
       "                <script>\n",
       "                require.config({\n",
       "                    paths: {'music21': '//cuthbertLab.github.io/music21j/src/music21'}\n",
       "                });\n",
       "                require(['music21'], function() {\n",
       "                               mp = new music21.miditools.MidiPlayer();\n",
       "                               mp.addPlayer('#midiPlayerDiv328510');\n",
       "                               mp.base64Load('data:audio/midi;base64,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');\n",
       "                        });\n",
       "                </script>"
      ],
      "text/plain": [
       "<IPython.core.display.HTML object>"
      ]
     },
     "metadata": {},
     "output_type": "display_data"
    },
    {
     "data": {
      "text/html": [
       "\n",
       "                <div id='midiPlayerDiv330775'></div>\n",
       "                <link rel=\"stylesheet\" href=\"//cuthbertLab.github.io/music21j/css/m21.css\"\n",
       "                    type=\"text/css\" />\n",
       "                <script>\n",
       "                require.config({\n",
       "                    paths: {'music21': '//cuthbertLab.github.io/music21j/src/music21'}\n",
       "                });\n",
       "                require(['music21'], function() {\n",
       "                               mp = new music21.miditools.MidiPlayer();\n",
       "                               mp.addPlayer('#midiPlayerDiv330775');\n",
       "                               mp.base64Load('data:audio/midi;base64,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');\n",
       "                        });\n",
       "                </script>"
      ],
      "text/plain": [
       "<IPython.core.display.HTML object>"
      ]
     },
     "metadata": {},
     "output_type": "display_data"
    },
    {
     "name": "stdout",
     "output_type": "stream",
     "text": [
      "Test song 26\n"
     ]
    },
    {
     "data": {
      "text/html": [
       "\n",
       "                <div id='midiPlayerDiv331130'></div>\n",
       "                <link rel=\"stylesheet\" href=\"//cuthbertLab.github.io/music21j/css/m21.css\"\n",
       "                    type=\"text/css\" />\n",
       "                <script>\n",
       "                require.config({\n",
       "                    paths: {'music21': '//cuthbertLab.github.io/music21j/src/music21'}\n",
       "                });\n",
       "                require(['music21'], function() {\n",
       "                               mp = new music21.miditools.MidiPlayer();\n",
       "                               mp.addPlayer('#midiPlayerDiv331130');\n",
       "                               mp.base64Load('data:audio/midi;base64,TVRoZAAAAAYAAQABBABNVHJrAAAA9wD/AwAA4ABAAMAAAP9RAwehIAD/WAQEAhgIigCQM0SGAJBCSACQP0CCVZBKRIErgEIAAIA/AIEqgEoAAZBCRACQP0QAkEtQglWAMwAAgEsAAJBNUIIAkDNQVYBNAACQTkhWgEIAAIA/AIRVkD9EAJBGSACQQkhVgE4AgSuAMwBVgD8AAIBGAACAQgCCVpBGSACQQkQAkD9AVZBQTIMrgEYAAIBCAACAPwBVgFAAVZBRUIErkFJIVYBRAIErgFIAAJBXTIIAkD5AAJBBTACQREAAkFJIVYBXAIIAgD4AAIBBAACARAAAgFIAAJBQSIJVgFAAiAD/LwA=');\n",
       "                        });\n",
       "                </script>"
      ],
      "text/plain": [
       "<IPython.core.display.HTML object>"
      ]
     },
     "metadata": {},
     "output_type": "display_data"
    },
    {
     "data": {
      "text/html": [
       "\n",
       "                <div id='midiPlayerDiv333683'></div>\n",
       "                <link rel=\"stylesheet\" href=\"//cuthbertLab.github.io/music21j/css/m21.css\"\n",
       "                    type=\"text/css\" />\n",
       "                <script>\n",
       "                require.config({\n",
       "                    paths: {'music21': '//cuthbertLab.github.io/music21j/src/music21'}\n",
       "                });\n",
       "                require(['music21'], function() {\n",
       "                               mp = new music21.miditools.MidiPlayer();\n",
       "                               mp.addPlayer('#midiPlayerDiv333683');\n",
       "                               mp.base64Load('data:audio/midi;base64,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');\n",
       "                        });\n",
       "                </script>"
      ],
      "text/plain": [
       "<IPython.core.display.HTML object>"
      ]
     },
     "metadata": {},
     "output_type": "display_data"
    },
    {
     "data": {
      "text/html": [
       "\n",
       "                <div id='midiPlayerDiv336294'></div>\n",
       "                <link rel=\"stylesheet\" href=\"//cuthbertLab.github.io/music21j/css/m21.css\"\n",
       "                    type=\"text/css\" />\n",
       "                <script>\n",
       "                require.config({\n",
       "                    paths: {'music21': '//cuthbertLab.github.io/music21j/src/music21'}\n",
       "                });\n",
       "                require(['music21'], function() {\n",
       "                               mp = new music21.miditools.MidiPlayer();\n",
       "                               mp.addPlayer('#midiPlayerDiv336294');\n",
       "                               mp.base64Load('data:audio/midi;base64,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');\n",
       "                        });\n",
       "                </script>"
      ],
      "text/plain": [
       "<IPython.core.display.HTML object>"
      ]
     },
     "metadata": {},
     "output_type": "display_data"
    },
    {
     "name": "stdout",
     "output_type": "stream",
     "text": [
      "Test song 27\n"
     ]
    },
    {
     "data": {
      "text/html": [
       "\n",
       "                <div id='midiPlayerDiv336845'></div>\n",
       "                <link rel=\"stylesheet\" href=\"//cuthbertLab.github.io/music21j/css/m21.css\"\n",
       "                    type=\"text/css\" />\n",
       "                <script>\n",
       "                require.config({\n",
       "                    paths: {'music21': '//cuthbertLab.github.io/music21j/src/music21'}\n",
       "                });\n",
       "                require(['music21'], function() {\n",
       "                               mp = new music21.miditools.MidiPlayer();\n",
       "                               mp.addPlayer('#midiPlayerDiv336845');\n",
       "                               mp.base64Load('data:audio/midi;base64,TVRoZAAAAAYAAQABBABNVHJrAAABCAD/AwAA4ABAAMAAAP9RAwehIAD/WAQEAhgIjgCQM0gAkFlIhACAWQAAkDo0AJBSTIMrkD9AAJBXTFWAUgCDK4BXAFWQRkgAkFJIgyuQWUxVgFIAggCQUkiBK4BZAIErgD8AgSqAUgAAkD9EAJBXTIIAgEYAggCAVwAAkEZEAJBSSFWAMwBWgD8AVYA6AIIAgFIAAJAxTACQWUyEAJA4PACQUkCBK4BZAFWARgCCAJA9RACQV0iBK4BSAIJVgFcAAJBGRACQUkyCVZBZTIErgFIAggCQUkRVgFkAgSuAMQAAgDgAAIA9AIIAgFIAAJBXTIQAgFcAAJBSSIIAgEYAggCAUgCIAP8vAA==');\n",
       "                        });\n",
       "                </script>"
      ],
      "text/plain": [
       "<IPython.core.display.HTML object>"
      ]
     },
     "metadata": {},
     "output_type": "display_data"
    },
    {
     "data": {
      "text/html": [
       "\n",
       "                <div id='midiPlayerDiv339390'></div>\n",
       "                <link rel=\"stylesheet\" href=\"//cuthbertLab.github.io/music21j/css/m21.css\"\n",
       "                    type=\"text/css\" />\n",
       "                <script>\n",
       "                require.config({\n",
       "                    paths: {'music21': '//cuthbertLab.github.io/music21j/src/music21'}\n",
       "                });\n",
       "                require(['music21'], function() {\n",
       "                               mp = new music21.miditools.MidiPlayer();\n",
       "                               mp.addPlayer('#midiPlayerDiv339390');\n",
       "                               mp.base64Load('data:audio/midi;base64,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');\n",
       "                        });\n",
       "                </script>"
      ],
      "text/plain": [
       "<IPython.core.display.HTML object>"
      ]
     },
     "metadata": {},
     "output_type": "display_data"
    },
    {
     "data": {
      "text/html": [
       "\n",
       "                <div id='midiPlayerDiv342074'></div>\n",
       "                <link rel=\"stylesheet\" href=\"//cuthbertLab.github.io/music21j/css/m21.css\"\n",
       "                    type=\"text/css\" />\n",
       "                <script>\n",
       "                require.config({\n",
       "                    paths: {'music21': '//cuthbertLab.github.io/music21j/src/music21'}\n",
       "                });\n",
       "                require(['music21'], function() {\n",
       "                               mp = new music21.miditools.MidiPlayer();\n",
       "                               mp.addPlayer('#midiPlayerDiv342074');\n",
       "                               mp.base64Load('data:audio/midi;base64,TVRoZAAAAAYAAQABBABNVHJrAAAHWwD/AwAA4ABAAMAAAP9RAwehIAD/WAQEAhgIjgCQM0gAkFlIhACAWQAAkDo0AJBSTIMrkD9AAJBXTFWAUgCDK4BXAFWQRkgAkFJIgyuQWUxVgFIAggCQUkiBK4BZAIErgD8AgSqAUgAAkD9EAJBXTIIAgEYAggCAVwAAkEZEAJBSSFWAMwBWgD8AVYA6AIIAgFIAAJAxTACQWUyEAJA4PACQUkCBK4BZAFWARgCCAJA9RACQV0iBK4BSAIJVgFcAAJBGRACQUkyCVZBZTIErgFIAggCQUkRVgFkAgSuAMQAAgDgAAIA9AIIAgFIAAJBXTIQAgFcAAJBSSIIAgEYAggCAUgCDK5A8LACQOTyEVZBUNIIAkFE0gSuAPAAAgDkAVYBRAACQOTAAkFFchACAVABVkDwwAJBDOIJVgDwAVpBALIJVgEAAggCAQwCBK4A5AACQRSSCAIBRAIIAkEg0AJA5OACQPBgAkEw4ggCAOQBVgEgAgSuARQAAgDwAAJBIIIIAgEwAAJA8MFWASACBK5BANIIAgDwAAJA5JIIAkE9AggCQSDCCAJBMQIIAgDkAAIBIAACATAAAkFFUggCATwAAgFEAAJBTRACQU0SBK4BRAACQUUxVgEAAAIBRAACQUUyCAJBINACQSDQAkEU8ggCASAAAgEUAAJAtRFWQXVSBK4BTAACAUwCEAIBIAFWAXQCBK4BgAACQYGBVkE9QAJBRNIErkFFAAJBdQFWATwAAgFEAVoBgAACQYEBVgF0AAIBdAACQXUhVgFEAgSuAXQAAgFgAAJBdSACQRVAAkFhQAJBdUIIAgC0AAJBgTIYAgF0AAJBfTIIAgGAAVZA8TIJWgF8AVZBgTIIAgGAAAJBfTIIAgF8AAIBbAACQW0xVkF1MhyuAYAAAkGBEVYA8AACAXQCNK5BiRIgAgGIAAJBgRJwAkC1YgSuAYACGVYAtAIErkDFMAJBdPIJVkGBAgSuAXQCoVZBbUJAAgFsAgSuAMQCIVZA3OIZVkDpIhgCAOgCBK4A3AIQAgGAAiACQWUiIAIBZAIIAkFJEigCAUgCEAJBLSIJVgEsAgSuQT1iDK5BUTFWATwCCAIBUAIIAkFJUgyuQVESIAIBUAFWAUgCCAJBRSIUrgFEAhFWQT0yEAJBPVIQAgE8AggCQTUyCAIBPAIIAgEUAAJBRVACQMFQAkEVIAJBIUACQT1AAkFRUggCAUQCCAIBNAIErgEUAglWQNEQAkFFUggCATwCEAJA3UACQQ1CCAIBDAIJVkDxMgSuASACCAIBUAIIAgDcAAJBITACQTVSCVYBNAIErgDAAAJBATACQT1BVgDwAVoBIAFWANABVgE8AgSuQRViCVYBRAIErgEAAAJAuVACQSlyBK4BFAFWQNUyGAJA6VIIAkE1UVYBKAIIAgE0AgSuQPkhVkE1YklWATQCLK4A1AFaALgBVgD4AAJAkVACQMFQAkDdUAJA8VACQVFSCAIA6AACAJAAAgDAAVYA3AACAPACBK5AwVACQQ1SCVYAwAACAQwCGVoBUAFWQLlAAkEFQAJA1SACQOlAAkD5QAJBSVIIAgDUAAIA6AACAPgBVgC4AAIBBAIJWkDBQAJBKWIJVgFIAAIBKAACQT1iCVYBPAIErkCtQAJA3SACQOlAAkD5QAJBKWACQUlCBK4AwAFWANwAAgDoAAIBKAFWAPgCBK5BKUIIAkDdMAJA6SACQPkwAkEhQggCAUgAAgEgAAJBGVIErgEoAVYA3AACAOgAAgD4AAJA3VACQOlQAkD5QAJBKVACQT1RVgEYAgSuAKwAAgDoAVYA3AIErgD4AAIBKAACATwBVkC5UAJA6VACQTWAAkFJUglWALgAAgDoAAIBNAIZWkDpUAJA+VACQSlQAkENUgSqAUgCBK4A6AACAPgAAgEoAAIBDAIErkDBUAJA6UACQTVgAkFJUAJBDUIJVgDoAAIBNAACAUgCBK5A6UACQPlQAkE9QggCAQwAAgDoAAIA+AFWATwCDK5A6VACQUlgAkD5YAJBPUFWAMACDK5ArUIIAgCsAggCAOgAAgFIAAIA+AACATwCCAJArVACQOlQAkD5QAJBNWACQT1iEAIArAACAOgAAgD4AAIBPAACQK1QAkE9YglWATwCBK4BNAACQOlAAkEpUAJA+VIErgCsAgSqAOgAAgEoAgSuAPgCCAJAnWACQOlQAkD9QAJBDTACQS1gAkE9UglWAOgAAgD8AVpBGTIIAgEMAVYBGAIIAgCcAAIA6AACQOlQAkD9QAJBDTIIAgEMAAJBPVFWATwBWgDoAAJA6VFWAPwAAgE8AggCQT1gAkD9YAJBDWIQAgD8AAIBDAIQAgEsAggCATwAAkFRUAJA1VACQPFQAkD9UglWAPACBK5A8UIIAkEZQVYA8AIErgD8AAIBGAFWQRVgAkEFUAJBNXIErkDxcAJBBVFWAVACBK4A1AFWARQAAgEEAgSuAPAAAgEEAAJBIVFWATQCCAIBIAIgA/y8A');\n",
       "                        });\n",
       "                </script>"
      ],
      "text/plain": [
       "<IPython.core.display.HTML object>"
      ]
     },
     "metadata": {},
     "output_type": "display_data"
    },
    {
     "name": "stdout",
     "output_type": "stream",
     "text": [
      "Test song 28\n"
     ]
    },
    {
     "data": {
      "text/html": [
       "\n",
       "                <div id='midiPlayerDiv342525'></div>\n",
       "                <link rel=\"stylesheet\" href=\"//cuthbertLab.github.io/music21j/css/m21.css\"\n",
       "                    type=\"text/css\" />\n",
       "                <script>\n",
       "                require.config({\n",
       "                    paths: {'music21': '//cuthbertLab.github.io/music21j/src/music21'}\n",
       "                });\n",
       "                require(['music21'], function() {\n",
       "                               mp = new music21.miditools.MidiPlayer();\n",
       "                               mp.addPlayer('#midiPlayerDiv342525');\n",
       "                               mp.base64Load('data:audio/midi;base64,TVRoZAAAAAYAAQABBABNVHJrAAAA2gD/AwAA4ABAAMAAAP9RAwehIAD/WAQEAhgIyACQOkAAkC5MggCQPThVkERMwlaQSESCVZBJTIErgEgAglWASQAAkFBEhACQS0yBK4BQAIRVgDoAAIAuAIIAgEsAAJBISIIAgD0AVYBEAIErgEgAAJBJTIgAgEkAAJBQSIQAkEtEgSuAUACIVZBXQIIAkFlQVYBXAIErkFdMggCAWQAAkFVUAJBQUFWAVwCBK4BVAIMrgEsAhFWAUACCAJBISIQAgEgAAJBJUIQAkEhIgSuASQCIVYBIAIgA/y8A');\n",
       "                        });\n",
       "                </script>"
      ],
      "text/plain": [
       "<IPython.core.display.HTML object>"
      ]
     },
     "metadata": {},
     "output_type": "display_data"
    },
    {
     "data": {
      "text/html": [
       "\n",
       "                <div id='midiPlayerDiv345095'></div>\n",
       "                <link rel=\"stylesheet\" href=\"//cuthbertLab.github.io/music21j/css/m21.css\"\n",
       "                    type=\"text/css\" />\n",
       "                <script>\n",
       "                require.config({\n",
       "                    paths: {'music21': '//cuthbertLab.github.io/music21j/src/music21'}\n",
       "                });\n",
       "                require(['music21'], function() {\n",
       "                               mp = new music21.miditools.MidiPlayer();\n",
       "                               mp.addPlayer('#midiPlayerDiv345095');\n",
       "                               mp.base64Load('data:audio/midi;base64,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');\n",
       "                        });\n",
       "                </script>"
      ],
      "text/plain": [
       "<IPython.core.display.HTML object>"
      ]
     },
     "metadata": {},
     "output_type": "display_data"
    },
    {
     "data": {
      "text/html": [
       "\n",
       "                <div id='midiPlayerDiv347661'></div>\n",
       "                <link rel=\"stylesheet\" href=\"//cuthbertLab.github.io/music21j/css/m21.css\"\n",
       "                    type=\"text/css\" />\n",
       "                <script>\n",
       "                require.config({\n",
       "                    paths: {'music21': '//cuthbertLab.github.io/music21j/src/music21'}\n",
       "                });\n",
       "                require(['music21'], function() {\n",
       "                               mp = new music21.miditools.MidiPlayer();\n",
       "                               mp.addPlayer('#midiPlayerDiv347661');\n",
       "                               mp.base64Load('data:audio/midi;base64,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');\n",
       "                        });\n",
       "                </script>"
      ],
      "text/plain": [
       "<IPython.core.display.HTML object>"
      ]
     },
     "metadata": {},
     "output_type": "display_data"
    },
    {
     "name": "stdout",
     "output_type": "stream",
     "text": [
      "Test song 29\n"
     ]
    },
    {
     "data": {
      "text/html": [
       "\n",
       "                <div id='midiPlayerDiv348105'></div>\n",
       "                <link rel=\"stylesheet\" href=\"//cuthbertLab.github.io/music21j/css/m21.css\"\n",
       "                    type=\"text/css\" />\n",
       "                <script>\n",
       "                require.config({\n",
       "                    paths: {'music21': '//cuthbertLab.github.io/music21j/src/music21'}\n",
       "                });\n",
       "                require(['music21'], function() {\n",
       "                               mp = new music21.miditools.MidiPlayer();\n",
       "                               mp.addPlayer('#midiPlayerDiv348105');\n",
       "                               mp.base64Load('data:audio/midi;base64,TVRoZAAAAAYAAQABBABNVHJrAAAA+QD/AwAA4ABAAMAAAP9RAwehIAD/WAQEAhgIjSuQLEgAkDhMhlWQMzwAkD1EgSuAOACCVZA4RIErgD0AglWAOAAAgD8AAJA/SACQREiEAIAzAACARAAAkDhIAJBCSIQAgEIAAJAzRACQP0iBK4A4AIJVgD8AAJA4RACQPUiBK4AzAIErgCwAgSqAPQAAkCxIAJA/UIYAgD8AggCAOAAAkDM4iACAMwAAkDtIAJA/SIQAkDNEhACAOwAAgD8AAJA4RACQPUiCVYAsAIErgDMAAIA9AACQO0iEAIA7AIQAkDM8gSuAOACCVZA4SIgAgDgAgSuAMwCIAP8vAA==');\n",
       "                        });\n",
       "                </script>"
      ],
      "text/plain": [
       "<IPython.core.display.HTML object>"
      ]
     },
     "metadata": {},
     "output_type": "display_data"
    },
    {
     "data": {
      "text/html": [
       "\n",
       "                <div id='midiPlayerDiv350541'></div>\n",
       "                <link rel=\"stylesheet\" href=\"//cuthbertLab.github.io/music21j/css/m21.css\"\n",
       "                    type=\"text/css\" />\n",
       "                <script>\n",
       "                require.config({\n",
       "                    paths: {'music21': '//cuthbertLab.github.io/music21j/src/music21'}\n",
       "                });\n",
       "                require(['music21'], function() {\n",
       "                               mp = new music21.miditools.MidiPlayer();\n",
       "                               mp.addPlayer('#midiPlayerDiv350541');\n",
       "                               mp.base64Load('data:audio/midi;base64,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');\n",
       "                        });\n",
       "                </script>"
      ],
      "text/plain": [
       "<IPython.core.display.HTML object>"
      ]
     },
     "metadata": {},
     "output_type": "display_data"
    },
    {
     "data": {
      "text/html": [
       "\n",
       "                <div id='midiPlayerDiv353031'></div>\n",
       "                <link rel=\"stylesheet\" href=\"//cuthbertLab.github.io/music21j/css/m21.css\"\n",
       "                    type=\"text/css\" />\n",
       "                <script>\n",
       "                require.config({\n",
       "                    paths: {'music21': '//cuthbertLab.github.io/music21j/src/music21'}\n",
       "                });\n",
       "                require(['music21'], function() {\n",
       "                               mp = new music21.miditools.MidiPlayer();\n",
       "                               mp.addPlayer('#midiPlayerDiv353031');\n",
       "                               mp.base64Load('data:audio/midi;base64,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');\n",
       "                        });\n",
       "                </script>"
      ],
      "text/plain": [
       "<IPython.core.display.HTML object>"
      ]
     },
     "metadata": {},
     "output_type": "display_data"
    },
    {
     "name": "stdout",
     "output_type": "stream",
     "text": [
      "Test song 30\n"
     ]
    },
    {
     "data": {
      "text/html": [
       "\n",
       "                <div id='midiPlayerDiv353578'></div>\n",
       "                <link rel=\"stylesheet\" href=\"//cuthbertLab.github.io/music21j/css/m21.css\"\n",
       "                    type=\"text/css\" />\n",
       "                <script>\n",
       "                require.config({\n",
       "                    paths: {'music21': '//cuthbertLab.github.io/music21j/src/music21'}\n",
       "                });\n",
       "                require(['music21'], function() {\n",
       "                               mp = new music21.miditools.MidiPlayer();\n",
       "                               mp.addPlayer('#midiPlayerDiv353578');\n",
       "                               mp.base64Load('data:audio/midi;base64,TVRoZAAAAAYAAQABBABNVHJrAAAA+AD/AwAA4ABAAMAAAP9RAwehIAD/WAQEAhgImgCQLVCIAJA0UIYAkDlQhSuAOQCCVZA5UACQQFCKAIA0AIgAgC0AkgCQLVCIAIA5AACAQAAAkDRIhlWQOVCFK4A5AIIAkDxIAJBATKQAgC0AAIA0AACAPAAAgEAAAJAtUIgAkDRMhyuQOVCFK4A5AIEqkDxMAJBAUIgAgEAAjgCQRUyEAIAtAIIAgDQAggCARQAAkEdMhgCQLVAAkEVQggCARwCGAJA0UIYAgDwAggCQOVSGAJA8SACQQEyCAIA5AJgAgDQAggCALQCDK4BFAFWAPACSAIBAAIgA/y8A');\n",
       "                        });\n",
       "                </script>"
      ],
      "text/plain": [
       "<IPython.core.display.HTML object>"
      ]
     },
     "metadata": {},
     "output_type": "display_data"
    },
    {
     "data": {
      "text/html": [
       "\n",
       "                <div id='midiPlayerDiv356192'></div>\n",
       "                <link rel=\"stylesheet\" href=\"//cuthbertLab.github.io/music21j/css/m21.css\"\n",
       "                    type=\"text/css\" />\n",
       "                <script>\n",
       "                require.config({\n",
       "                    paths: {'music21': '//cuthbertLab.github.io/music21j/src/music21'}\n",
       "                });\n",
       "                require(['music21'], function() {\n",
       "                               mp = new music21.miditools.MidiPlayer();\n",
       "                               mp.addPlayer('#midiPlayerDiv356192');\n",
       "                               mp.base64Load('data:audio/midi;base64,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');\n",
       "                        });\n",
       "                </script>"
      ],
      "text/plain": [
       "<IPython.core.display.HTML object>"
      ]
     },
     "metadata": {},
     "output_type": "display_data"
    },
    {
     "data": {
      "text/html": [
       "\n",
       "                <div id='midiPlayerDiv358795'></div>\n",
       "                <link rel=\"stylesheet\" href=\"//cuthbertLab.github.io/music21j/css/m21.css\"\n",
       "                    type=\"text/css\" />\n",
       "                <script>\n",
       "                require.config({\n",
       "                    paths: {'music21': '//cuthbertLab.github.io/music21j/src/music21'}\n",
       "                });\n",
       "                require(['music21'], function() {\n",
       "                               mp = new music21.miditools.MidiPlayer();\n",
       "                               mp.addPlayer('#midiPlayerDiv358795');\n",
       "                               mp.base64Load('data:audio/midi;base64,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');\n",
       "                        });\n",
       "                </script>"
      ],
      "text/plain": [
       "<IPython.core.display.HTML object>"
      ]
     },
     "metadata": {},
     "output_type": "display_data"
    },
    {
     "name": "stdout",
     "output_type": "stream",
     "text": [
      "Test song 31\n"
     ]
    },
    {
     "data": {
      "text/html": [
       "\n",
       "                <div id='midiPlayerDiv359237'></div>\n",
       "                <link rel=\"stylesheet\" href=\"//cuthbertLab.github.io/music21j/css/m21.css\"\n",
       "                    type=\"text/css\" />\n",
       "                <script>\n",
       "                require.config({\n",
       "                    paths: {'music21': '//cuthbertLab.github.io/music21j/src/music21'}\n",
       "                });\n",
       "                require(['music21'], function() {\n",
       "                               mp = new music21.miditools.MidiPlayer();\n",
       "                               mp.addPlayer('#midiPlayerDiv359237');\n",
       "                               mp.base64Load('data:audio/midi;base64,TVRoZAAAAAYAAQABBABNVHJrAAABAgD/AwAA4ABAAMAAAP9RAwehIAD/WAQEAhgIgaAAkCtQAJBTWIYAkDJEiACQO0yHK5A3SFWAOwCEVoA3AIEqgDcAAJA3PACQO0gAkD5MglWAOwAAgD4AhACAUwCCVpBTVIRVkFZUVZA3VACQO1AAkD5QAYBTAFWAMgBVgCsAVYA3AACAOwBVgD4AVpBUXIErgFYAhACAVABVkFNQhACQUVgAkC9QAJA+TIIAgFMAhgCQNjiGAJA7VIIAgD4AggCANgCEAIA7AACQNjyHK5A7UACQQkiCVYAvAACANgCFK4A7AIJVgEIAglWQO1QAkD5UggCAOwAAgD4AgyuAUQCIAP8vAA==');\n",
       "                        });\n",
       "                </script>"
      ],
      "text/plain": [
       "<IPython.core.display.HTML object>"
      ]
     },
     "metadata": {},
     "output_type": "display_data"
    },
    {
     "data": {
      "text/html": [
       "\n",
       "                <div id='midiPlayerDiv362033'></div>\n",
       "                <link rel=\"stylesheet\" href=\"//cuthbertLab.github.io/music21j/css/m21.css\"\n",
       "                    type=\"text/css\" />\n",
       "                <script>\n",
       "                require.config({\n",
       "                    paths: {'music21': '//cuthbertLab.github.io/music21j/src/music21'}\n",
       "                });\n",
       "                require(['music21'], function() {\n",
       "                               mp = new music21.miditools.MidiPlayer();\n",
       "                               mp.addPlayer('#midiPlayerDiv362033');\n",
       "                               mp.base64Load('data:audio/midi;base64,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');\n",
       "                        });\n",
       "                </script>"
      ],
      "text/plain": [
       "<IPython.core.display.HTML object>"
      ]
     },
     "metadata": {},
     "output_type": "display_data"
    },
    {
     "data": {
      "text/html": [
       "\n",
       "                <div id='midiPlayerDiv364716'></div>\n",
       "                <link rel=\"stylesheet\" href=\"//cuthbertLab.github.io/music21j/css/m21.css\"\n",
       "                    type=\"text/css\" />\n",
       "                <script>\n",
       "                require.config({\n",
       "                    paths: {'music21': '//cuthbertLab.github.io/music21j/src/music21'}\n",
       "                });\n",
       "                require(['music21'], function() {\n",
       "                               mp = new music21.miditools.MidiPlayer();\n",
       "                               mp.addPlayer('#midiPlayerDiv364716');\n",
       "                               mp.base64Load('data:audio/midi;base64,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');\n",
       "                        });\n",
       "                </script>"
      ],
      "text/plain": [
       "<IPython.core.display.HTML object>"
      ]
     },
     "metadata": {},
     "output_type": "display_data"
    },
    {
     "name": "stdout",
     "output_type": "stream",
     "text": [
      "Test song 32\n"
     ]
    },
    {
     "data": {
      "text/html": [
       "\n",
       "                <div id='midiPlayerDiv365173'></div>\n",
       "                <link rel=\"stylesheet\" href=\"//cuthbertLab.github.io/music21j/css/m21.css\"\n",
       "                    type=\"text/css\" />\n",
       "                <script>\n",
       "                require.config({\n",
       "                    paths: {'music21': '//cuthbertLab.github.io/music21j/src/music21'}\n",
       "                });\n",
       "                require(['music21'], function() {\n",
       "                               mp = new music21.miditools.MidiPlayer();\n",
       "                               mp.addPlayer('#midiPlayerDiv365173');\n",
       "                               mp.base64Load('data:audio/midi;base64,TVRoZAAAAAYAAQABBABNVHJrAAABFwD/AwAA4ABAAMAAAP9RAwehIAD/WAQEAhgIjACQLkwAkDpMAJBGTIYAgDoAAJA1RIYAkDo8ggCANQBVgDoAgSuQNUCIAIA1AIIAkDU0ggCANQCBK4BGAIJVkDpIAJA+SACQSFCCVYA6AIErgC4AggCAPgAAkDVEhACASACCAIA1AACQLkwAkDpAAJBKVIQAkDVAhACAOgCCAIA1AACQOkCCAIA6AIIAkDVEAJA6RACQPkiCAIAuAFWANQAAgDoAAIA+AIkrkDU8ggCANQCCAJA1TACQOkwAkD5MggCANQCDK4A6AFWQNUCBK4BKAFWAPgBVgDUAgyuQN0QAkDo8hgCANwCCAIA6AIIAkDc0ggCANwCIAP8vAA==');\n",
       "                        });\n",
       "                </script>"
      ],
      "text/plain": [
       "<IPython.core.display.HTML object>"
      ]
     },
     "metadata": {},
     "output_type": "display_data"
    },
    {
     "data": {
      "text/html": [
       "\n",
       "                <div id='midiPlayerDiv367954'></div>\n",
       "                <link rel=\"stylesheet\" href=\"//cuthbertLab.github.io/music21j/css/m21.css\"\n",
       "                    type=\"text/css\" />\n",
       "                <script>\n",
       "                require.config({\n",
       "                    paths: {'music21': '//cuthbertLab.github.io/music21j/src/music21'}\n",
       "                });\n",
       "                require(['music21'], function() {\n",
       "                               mp = new music21.miditools.MidiPlayer();\n",
       "                               mp.addPlayer('#midiPlayerDiv367954');\n",
       "                               mp.base64Load('data:audio/midi;base64,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');\n",
       "                        });\n",
       "                </script>"
      ],
      "text/plain": [
       "<IPython.core.display.HTML object>"
      ]
     },
     "metadata": {},
     "output_type": "display_data"
    },
    {
     "data": {
      "text/html": [
       "\n",
       "                <div id='midiPlayerDiv370531'></div>\n",
       "                <link rel=\"stylesheet\" href=\"//cuthbertLab.github.io/music21j/css/m21.css\"\n",
       "                    type=\"text/css\" />\n",
       "                <script>\n",
       "                require.config({\n",
       "                    paths: {'music21': '//cuthbertLab.github.io/music21j/src/music21'}\n",
       "                });\n",
       "                require(['music21'], function() {\n",
       "                               mp = new music21.miditools.MidiPlayer();\n",
       "                               mp.addPlayer('#midiPlayerDiv370531');\n",
       "                               mp.base64Load('data:audio/midi;base64,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');\n",
       "                        });\n",
       "                </script>"
      ],
      "text/plain": [
       "<IPython.core.display.HTML object>"
      ]
     },
     "metadata": {},
     "output_type": "display_data"
    },
    {
     "name": "stdout",
     "output_type": "stream",
     "text": [
      "Test song 33\n"
     ]
    },
    {
     "data": {
      "text/html": [
       "\n",
       "                <div id='midiPlayerDiv371065'></div>\n",
       "                <link rel=\"stylesheet\" href=\"//cuthbertLab.github.io/music21j/css/m21.css\"\n",
       "                    type=\"text/css\" />\n",
       "                <script>\n",
       "                require.config({\n",
       "                    paths: {'music21': '//cuthbertLab.github.io/music21j/src/music21'}\n",
       "                });\n",
       "                require(['music21'], function() {\n",
       "                               mp = new music21.miditools.MidiPlayer();\n",
       "                               mp.addPlayer('#midiPlayerDiv371065');\n",
       "                               mp.base64Load('data:audio/midi;base64,TVRoZAAAAAYAAQABBABNVHJrAAAA5AD/AwAA4ABAAMAAAP9RAwehIAD/WAQEAhgIguAAkCZMAJA2TACQOUAAkD5EAJBFTIgAkC00ggCAOQCEAIA+AACQOUyEAIA5AIQAkDlMAJBCQIQAgDkAAIBCAIhVgEUAgSuANgAAkDk4AJBAUIZVkDlMAJA7TACQPkwAkEJMgSuAOQBVgD4AVYA5AFaAQACEAJBATACQTExVgC0AAIA7AACAQgCDK4AmAIQAgEAAAIBMAACQN0QAkDpEAJA+SIQAgDcAggCQN0SCAIA6AACAPgCGAJA6TIgAgDcAiACAOgCIAP8vAA==');\n",
       "                        });\n",
       "                </script>"
      ],
      "text/plain": [
       "<IPython.core.display.HTML object>"
      ]
     },
     "metadata": {},
     "output_type": "display_data"
    },
    {
     "data": {
      "text/html": [
       "\n",
       "                <div id='midiPlayerDiv373887'></div>\n",
       "                <link rel=\"stylesheet\" href=\"//cuthbertLab.github.io/music21j/css/m21.css\"\n",
       "                    type=\"text/css\" />\n",
       "                <script>\n",
       "                require.config({\n",
       "                    paths: {'music21': '//cuthbertLab.github.io/music21j/src/music21'}\n",
       "                });\n",
       "                require(['music21'], function() {\n",
       "                               mp = new music21.miditools.MidiPlayer();\n",
       "                               mp.addPlayer('#midiPlayerDiv373887');\n",
       "                               mp.base64Load('data:audio/midi;base64,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');\n",
       "                        });\n",
       "                </script>"
      ],
      "text/plain": [
       "<IPython.core.display.HTML object>"
      ]
     },
     "metadata": {},
     "output_type": "display_data"
    },
    {
     "data": {
      "text/html": [
       "\n",
       "                <div id='midiPlayerDiv376670'></div>\n",
       "                <link rel=\"stylesheet\" href=\"//cuthbertLab.github.io/music21j/css/m21.css\"\n",
       "                    type=\"text/css\" />\n",
       "                <script>\n",
       "                require.config({\n",
       "                    paths: {'music21': '//cuthbertLab.github.io/music21j/src/music21'}\n",
       "                });\n",
       "                require(['music21'], function() {\n",
       "                               mp = new music21.miditools.MidiPlayer();\n",
       "                               mp.addPlayer('#midiPlayerDiv376670');\n",
       "                               mp.base64Load('data:audio/midi;base64,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');\n",
       "                        });\n",
       "                </script>"
      ],
      "text/plain": [
       "<IPython.core.display.HTML object>"
      ]
     },
     "metadata": {},
     "output_type": "display_data"
    },
    {
     "name": "stdout",
     "output_type": "stream",
     "text": [
      "Test song 34\n"
     ]
    },
    {
     "data": {
      "text/html": [
       "\n",
       "                <div id='midiPlayerDiv377173'></div>\n",
       "                <link rel=\"stylesheet\" href=\"//cuthbertLab.github.io/music21j/css/m21.css\"\n",
       "                    type=\"text/css\" />\n",
       "                <script>\n",
       "                require.config({\n",
       "                    paths: {'music21': '//cuthbertLab.github.io/music21j/src/music21'}\n",
       "                });\n",
       "                require(['music21'], function() {\n",
       "                               mp = new music21.miditools.MidiPlayer();\n",
       "                               mp.addPlayer('#midiPlayerDiv377173');\n",
       "                               mp.base64Load('data:audio/midi;base64,TVRoZAAAAAYAAQABBABNVHJrAAABBAD/AwAA4ABAAMAAAP9RAwehIAD/WAQEAhgIjACQP1iEAJBBWIErgD8AhACAQQAAkEhYhFWQLFSEAJAzSIYAkDhUhACQP1CCAIAsAACAMwCCAJAsSIYAkDNIVoBIAIEqgDgAggCQOFAAkEFgggCAPwCBK4AsAFWAMwAAgEEAVZA/TACQRliBK4A4AIQAkCtEhACQM0iEAIA/AACQOlSGAIArAFWAMwCDK5ArSACQM0BVgEYAgSuAOgAAgDMAggCQM1AAkD9UhFWQOlQAkEFYgyuAKwAAgD8AVYBBAIErgDMAAJA/VACQS1xVgDoAhyuAPwCFK5BIVFWASwCDK4BIAIgA/y8A');\n",
       "                        });\n",
       "                </script>"
      ],
      "text/plain": [
       "<IPython.core.display.HTML object>"
      ]
     },
     "metadata": {},
     "output_type": "display_data"
    },
    {
     "data": {
      "text/html": [
       "\n",
       "                <div id='midiPlayerDiv380105'></div>\n",
       "                <link rel=\"stylesheet\" href=\"//cuthbertLab.github.io/music21j/css/m21.css\"\n",
       "                    type=\"text/css\" />\n",
       "                <script>\n",
       "                require.config({\n",
       "                    paths: {'music21': '//cuthbertLab.github.io/music21j/src/music21'}\n",
       "                });\n",
       "                require(['music21'], function() {\n",
       "                               mp = new music21.miditools.MidiPlayer();\n",
       "                               mp.addPlayer('#midiPlayerDiv380105');\n",
       "                               mp.base64Load('data:audio/midi;base64,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');\n",
       "                        });\n",
       "                </script>"
      ],
      "text/plain": [
       "<IPython.core.display.HTML object>"
      ]
     },
     "metadata": {},
     "output_type": "display_data"
    },
    {
     "data": {
      "text/html": [
       "\n",
       "                <div id='midiPlayerDiv382843'></div>\n",
       "                <link rel=\"stylesheet\" href=\"//cuthbertLab.github.io/music21j/css/m21.css\"\n",
       "                    type=\"text/css\" />\n",
       "                <script>\n",
       "                require.config({\n",
       "                    paths: {'music21': '//cuthbertLab.github.io/music21j/src/music21'}\n",
       "                });\n",
       "                require(['music21'], function() {\n",
       "                               mp = new music21.miditools.MidiPlayer();\n",
       "                               mp.addPlayer('#midiPlayerDiv382843');\n",
       "                               mp.base64Load('data:audio/midi;base64,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');\n",
       "                        });\n",
       "                </script>"
      ],
      "text/plain": [
       "<IPython.core.display.HTML object>"
      ]
     },
     "metadata": {},
     "output_type": "display_data"
    },
    {
     "name": "stdout",
     "output_type": "stream",
     "text": [
      "Test song 35\n"
     ]
    },
    {
     "data": {
      "text/html": [
       "\n",
       "                <div id='midiPlayerDiv383246'></div>\n",
       "                <link rel=\"stylesheet\" href=\"//cuthbertLab.github.io/music21j/css/m21.css\"\n",
       "                    type=\"text/css\" />\n",
       "                <script>\n",
       "                require.config({\n",
       "                    paths: {'music21': '//cuthbertLab.github.io/music21j/src/music21'}\n",
       "                });\n",
       "                require(['music21'], function() {\n",
       "                               mp = new music21.miditools.MidiPlayer();\n",
       "                               mp.addPlayer('#midiPlayerDiv383246');\n",
       "                               mp.base64Load('data:audio/midi;base64,TVRoZAAAAAYAAQABBABNVHJrAAABEwD/AwAA4ABAAMAAAP9RAwehIAD/WAQEAhgIiACQK0wAkDdIAJA7TIgAgDsAAJAyRIIAgDcAhACQO0gAkD5MhFWAMgCBK5AyJACQN0iCAIA7AACAPgCEAIA3AFWQO0wAkD5MglWAOwCBK4A+AIMrkDdAglWANwCDK4AyAACQN1AAkDtUAJA+TACQR1SCAIBHAFWANwAAkEhMgSuAKwBVgEgAgSuQN1AAkElQggCAOwAAgD4AAIBJAIIAkEpUgyuQKFAAkDtMAJA+SFWASgCEAIA3AIIAkDc8gSuAOwAAgD4AVYA3AIQAkDdMAJA7UACQPkyCVYA3AIErgDsAAIA+AIIAkDdEhSuAKACCVYA3AIgA/y8A');\n",
       "                        });\n",
       "                </script>"
      ],
      "text/plain": [
       "<IPython.core.display.HTML object>"
      ]
     },
     "metadata": {},
     "output_type": "display_data"
    },
    {
     "data": {
      "text/html": [
       "\n",
       "                <div id='midiPlayerDiv385856'></div>\n",
       "                <link rel=\"stylesheet\" href=\"//cuthbertLab.github.io/music21j/css/m21.css\"\n",
       "                    type=\"text/css\" />\n",
       "                <script>\n",
       "                require.config({\n",
       "                    paths: {'music21': '//cuthbertLab.github.io/music21j/src/music21'}\n",
       "                });\n",
       "                require(['music21'], function() {\n",
       "                               mp = new music21.miditools.MidiPlayer();\n",
       "                               mp.addPlayer('#midiPlayerDiv385856');\n",
       "                               mp.base64Load('data:audio/midi;base64,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');\n",
       "                        });\n",
       "                </script>"
      ],
      "text/plain": [
       "<IPython.core.display.HTML object>"
      ]
     },
     "metadata": {},
     "output_type": "display_data"
    },
    {
     "data": {
      "text/html": [
       "\n",
       "                <div id='midiPlayerDiv388457'></div>\n",
       "                <link rel=\"stylesheet\" href=\"//cuthbertLab.github.io/music21j/css/m21.css\"\n",
       "                    type=\"text/css\" />\n",
       "                <script>\n",
       "                require.config({\n",
       "                    paths: {'music21': '//cuthbertLab.github.io/music21j/src/music21'}\n",
       "                });\n",
       "                require(['music21'], function() {\n",
       "                               mp = new music21.miditools.MidiPlayer();\n",
       "                               mp.addPlayer('#midiPlayerDiv388457');\n",
       "                               mp.base64Load('data:audio/midi;base64,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');\n",
       "                        });\n",
       "                </script>"
      ],
      "text/plain": [
       "<IPython.core.display.HTML object>"
      ]
     },
     "metadata": {},
     "output_type": "display_data"
    },
    {
     "name": "stdout",
     "output_type": "stream",
     "text": [
      "Test song 36\n"
     ]
    },
    {
     "data": {
      "text/html": [
       "\n",
       "                <div id='midiPlayerDiv388923'></div>\n",
       "                <link rel=\"stylesheet\" href=\"//cuthbertLab.github.io/music21j/css/m21.css\"\n",
       "                    type=\"text/css\" />\n",
       "                <script>\n",
       "                require.config({\n",
       "                    paths: {'music21': '//cuthbertLab.github.io/music21j/src/music21'}\n",
       "                });\n",
       "                require(['music21'], function() {\n",
       "                               mp = new music21.miditools.MidiPlayer();\n",
       "                               mp.addPlayer('#midiPlayerDiv388923');\n",
       "                               mp.base64Load('data:audio/midi;base64,TVRoZAAAAAYAAQABBABNVHJrAAAA9AD/AwAA4ABAAMAAAP9RAwehIAD/WAQEAhgIjSuQQ1iEVZBFWFaAQwCDKpAwUACQR1iBK4BFAIMqkDdIgyuQPkyFK4A+AFWQQ1SIAJA8UFWANwCBK4BHAIIAkDdEAJBAVIIAgDwAgyuAQABVgDAAAIA3AIQAkC9UhACQNkyEVZA+TIUrgEMAAJA5VIIAgDYAVYA+AIErkDZEhACQQkyCAIA2AFWAOQCCVpA5UFWALwCCAIBCAACAOQCKVZA7WIUrgDsAAIA8AACQN1gAkDxYhACQPFQAkD5UggCANwCCAIA+AACQQ1SEAIA8AIIAgEMAiAD/LwA=');\n",
       "                        });\n",
       "                </script>"
      ],
      "text/plain": [
       "<IPython.core.display.HTML object>"
      ]
     },
     "metadata": {},
     "output_type": "display_data"
    },
    {
     "data": {
      "text/html": [
       "\n",
       "                <div id='midiPlayerDiv391580'></div>\n",
       "                <link rel=\"stylesheet\" href=\"//cuthbertLab.github.io/music21j/css/m21.css\"\n",
       "                    type=\"text/css\" />\n",
       "                <script>\n",
       "                require.config({\n",
       "                    paths: {'music21': '//cuthbertLab.github.io/music21j/src/music21'}\n",
       "                });\n",
       "                require(['music21'], function() {\n",
       "                               mp = new music21.miditools.MidiPlayer();\n",
       "                               mp.addPlayer('#midiPlayerDiv391580');\n",
       "                               mp.base64Load('data:audio/midi;base64,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');\n",
       "                        });\n",
       "                </script>"
      ],
      "text/plain": [
       "<IPython.core.display.HTML object>"
      ]
     },
     "metadata": {},
     "output_type": "display_data"
    },
    {
     "data": {
      "text/html": [
       "\n",
       "                <div id='midiPlayerDiv394096'></div>\n",
       "                <link rel=\"stylesheet\" href=\"//cuthbertLab.github.io/music21j/css/m21.css\"\n",
       "                    type=\"text/css\" />\n",
       "                <script>\n",
       "                require.config({\n",
       "                    paths: {'music21': '//cuthbertLab.github.io/music21j/src/music21'}\n",
       "                });\n",
       "                require(['music21'], function() {\n",
       "                               mp = new music21.miditools.MidiPlayer();\n",
       "                               mp.addPlayer('#midiPlayerDiv394096');\n",
       "                               mp.base64Load('data:audio/midi;base64,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');\n",
       "                        });\n",
       "                </script>"
      ],
      "text/plain": [
       "<IPython.core.display.HTML object>"
      ]
     },
     "metadata": {},
     "output_type": "display_data"
    },
    {
     "name": "stdout",
     "output_type": "stream",
     "text": [
      "Test song 37\n"
     ]
    },
    {
     "data": {
      "text/html": [
       "\n",
       "                <div id='midiPlayerDiv394574'></div>\n",
       "                <link rel=\"stylesheet\" href=\"//cuthbertLab.github.io/music21j/css/m21.css\"\n",
       "                    type=\"text/css\" />\n",
       "                <script>\n",
       "                require.config({\n",
       "                    paths: {'music21': '//cuthbertLab.github.io/music21j/src/music21'}\n",
       "                });\n",
       "                require(['music21'], function() {\n",
       "                               mp = new music21.miditools.MidiPlayer();\n",
       "                               mp.addPlayer('#midiPlayerDiv394574');\n",
       "                               mp.base64Load('data:audio/midi;base64,TVRoZAAAAAYAAQABBABNVHJrAAAA6AD/AwAA4ABAAMAAAP9RAwehIAD/WAQEAhgIjgCQLUSCAJA0TIYAkDdMggCANACEAIA3AIErkDlIhlWQPEyBK4A5AIRVkEBMggCAPACEAJBDTIIAgEAAhACAQwCCAJBFUIYAkEhMggCARQCEAIBIAIErkExMhlWQRUyBK4BMAIZVgEUAhACQNECCAJBPTIMrkDk8VZA8SIIAkFFMAJBAQIIAgE8AhACAUQAAkEVMhACAPAAAgEAAgSuAOQBVgC0AAIA0AIErkExMVYBFAIRVkCtIgSuQN0yDK4BMAFWAKwAAgDcAiAD/LwA=');\n",
       "                        });\n",
       "                </script>"
      ],
      "text/plain": [
       "<IPython.core.display.HTML object>"
      ]
     },
     "metadata": {},
     "output_type": "display_data"
    },
    {
     "data": {
      "text/html": [
       "\n",
       "                <div id='midiPlayerDiv397231'></div>\n",
       "                <link rel=\"stylesheet\" href=\"//cuthbertLab.github.io/music21j/css/m21.css\"\n",
       "                    type=\"text/css\" />\n",
       "                <script>\n",
       "                require.config({\n",
       "                    paths: {'music21': '//cuthbertLab.github.io/music21j/src/music21'}\n",
       "                });\n",
       "                require(['music21'], function() {\n",
       "                               mp = new music21.miditools.MidiPlayer();\n",
       "                               mp.addPlayer('#midiPlayerDiv397231');\n",
       "                               mp.base64Load('data:audio/midi;base64,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');\n",
       "                        });\n",
       "                </script>"
      ],
      "text/plain": [
       "<IPython.core.display.HTML object>"
      ]
     },
     "metadata": {},
     "output_type": "display_data"
    },
    {
     "data": {
      "text/html": [
       "\n",
       "                <div id='midiPlayerDiv400090'></div>\n",
       "                <link rel=\"stylesheet\" href=\"//cuthbertLab.github.io/music21j/css/m21.css\"\n",
       "                    type=\"text/css\" />\n",
       "                <script>\n",
       "                require.config({\n",
       "                    paths: {'music21': '//cuthbertLab.github.io/music21j/src/music21'}\n",
       "                });\n",
       "                require(['music21'], function() {\n",
       "                               mp = new music21.miditools.MidiPlayer();\n",
       "                               mp.addPlayer('#midiPlayerDiv400090');\n",
       "                               mp.base64Load('data:audio/midi;base64,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');\n",
       "                        });\n",
       "                </script>"
      ],
      "text/plain": [
       "<IPython.core.display.HTML object>"
      ]
     },
     "metadata": {},
     "output_type": "display_data"
    },
    {
     "name": "stdout",
     "output_type": "stream",
     "text": [
      "Test song 38\n"
     ]
    },
    {
     "data": {
      "text/html": [
       "\n",
       "                <div id='midiPlayerDiv400581'></div>\n",
       "                <link rel=\"stylesheet\" href=\"//cuthbertLab.github.io/music21j/css/m21.css\"\n",
       "                    type=\"text/css\" />\n",
       "                <script>\n",
       "                require.config({\n",
       "                    paths: {'music21': '//cuthbertLab.github.io/music21j/src/music21'}\n",
       "                });\n",
       "                require(['music21'], function() {\n",
       "                               mp = new music21.miditools.MidiPlayer();\n",
       "                               mp.addPlayer('#midiPlayerDiv400581');\n",
       "                               mp.base64Load('data:audio/midi;base64,TVRoZAAAAAYAAQABBABNVHJrAAABBwD/AwAA4ABAAMAAAP9RAwehIAD/WAQEAhgIuACQM1QAkFJYhSuQOjSCVYBSAIJVkD9IAJBSXIUrkEJMhgCAQgAAkEZQVYA/AIQAgFIAglaAOgBVgDMAggCQUFSCAJAxUACQUlRVgFAAhSuQOECEVYBSAIErkD1MAJBSVIYAgEYAAJBBVIYAgDgAAIA9AACQRkyCAIAxAIQAgFIAggCQUlSCVYBSAFaQL1AAkFdUVYBBAIRVkDY0hFaAVwBVkD9MAJBVVIIAgEYAhACQQkyCAIA/AIQAkEZQggCAQgCCVYA2AIErkD88VYBVAAGALwCCVZBXVIJVgFcAggCAPwCKAIBGAIgA/y8A');\n",
       "                        });\n",
       "                </script>"
      ],
      "text/plain": [
       "<IPython.core.display.HTML object>"
      ]
     },
     "metadata": {},
     "output_type": "display_data"
    },
    {
     "data": {
      "text/html": [
       "\n",
       "                <div id='midiPlayerDiv403348'></div>\n",
       "                <link rel=\"stylesheet\" href=\"//cuthbertLab.github.io/music21j/css/m21.css\"\n",
       "                    type=\"text/css\" />\n",
       "                <script>\n",
       "                require.config({\n",
       "                    paths: {'music21': '//cuthbertLab.github.io/music21j/src/music21'}\n",
       "                });\n",
       "                require(['music21'], function() {\n",
       "                               mp = new music21.miditools.MidiPlayer();\n",
       "                               mp.addPlayer('#midiPlayerDiv403348');\n",
       "                               mp.base64Load('data:audio/midi;base64,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');\n",
       "                        });\n",
       "                </script>"
      ],
      "text/plain": [
       "<IPython.core.display.HTML object>"
      ]
     },
     "metadata": {},
     "output_type": "display_data"
    },
    {
     "data": {
      "text/html": [
       "\n",
       "                <div id='midiPlayerDiv406014'></div>\n",
       "                <link rel=\"stylesheet\" href=\"//cuthbertLab.github.io/music21j/css/m21.css\"\n",
       "                    type=\"text/css\" />\n",
       "                <script>\n",
       "                require.config({\n",
       "                    paths: {'music21': '//cuthbertLab.github.io/music21j/src/music21'}\n",
       "                });\n",
       "                require(['music21'], function() {\n",
       "                               mp = new music21.miditools.MidiPlayer();\n",
       "                               mp.addPlayer('#midiPlayerDiv406014');\n",
       "                               mp.base64Load('data:audio/midi;base64,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');\n",
       "                        });\n",
       "                </script>"
      ],
      "text/plain": [
       "<IPython.core.display.HTML object>"
      ]
     },
     "metadata": {},
     "output_type": "display_data"
    },
    {
     "name": "stdout",
     "output_type": "stream",
     "text": [
      "Test song 39\n"
     ]
    },
    {
     "data": {
      "text/html": [
       "\n",
       "                <div id='midiPlayerDiv406456'></div>\n",
       "                <link rel=\"stylesheet\" href=\"//cuthbertLab.github.io/music21j/css/m21.css\"\n",
       "                    type=\"text/css\" />\n",
       "                <script>\n",
       "                require.config({\n",
       "                    paths: {'music21': '//cuthbertLab.github.io/music21j/src/music21'}\n",
       "                });\n",
       "                require(['music21'], function() {\n",
       "                               mp = new music21.miditools.MidiPlayer();\n",
       "                               mp.addPlayer('#midiPlayerDiv406456');\n",
       "                               mp.base64Load('data:audio/midi;base64,TVRoZAAAAAYAAQABBABNVHJrAAABDAD/AwAA4ABAAMAAAP9RAwehIAD/WAQEAhgIogCQMlAAkF1MhgCQNzyGAIBdAACQOVAAkD5QAJBbSIIAgDcAhSuQN0QAkFZQVYA5AACAPgAAgFsAhgCQOVAAkD5QgSuANwCEVZA3NIIAgDkAAIA+AIQAkDlIAJA+SIQAgDcAggCQN0iCAIA5AACAPgCCAIAyAIIAkDBQAJBdUIErgFYAVYA3AIRVkDc4hgCANwBWgF0AVZA8RACQW0yGAIA8AACAWwAAkDdMAJBUUIUrkDxIhFWANwCBK4A8AFWQN0SGAJA8TIQAgDcAggCQN1CCAIA8AIIAgDAAgSuAVABVgDcAAJA8TIgAgDwAiAD/LwA=');\n",
       "                        });\n",
       "                </script>"
      ],
      "text/plain": [
       "<IPython.core.display.HTML object>"
      ]
     },
     "metadata": {},
     "output_type": "display_data"
    },
    {
     "data": {
      "text/html": [
       "\n",
       "                <div id='midiPlayerDiv409111'></div>\n",
       "                <link rel=\"stylesheet\" href=\"//cuthbertLab.github.io/music21j/css/m21.css\"\n",
       "                    type=\"text/css\" />\n",
       "                <script>\n",
       "                require.config({\n",
       "                    paths: {'music21': '//cuthbertLab.github.io/music21j/src/music21'}\n",
       "                });\n",
       "                require(['music21'], function() {\n",
       "                               mp = new music21.miditools.MidiPlayer();\n",
       "                               mp.addPlayer('#midiPlayerDiv409111');\n",
       "                               mp.base64Load('data:audio/midi;base64,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');\n",
       "                        });\n",
       "                </script>"
      ],
      "text/plain": [
       "<IPython.core.display.HTML object>"
      ]
     },
     "metadata": {},
     "output_type": "display_data"
    },
    {
     "data": {
      "text/html": [
       "\n",
       "                <div id='midiPlayerDiv411515'></div>\n",
       "                <link rel=\"stylesheet\" href=\"//cuthbertLab.github.io/music21j/css/m21.css\"\n",
       "                    type=\"text/css\" />\n",
       "                <script>\n",
       "                require.config({\n",
       "                    paths: {'music21': '//cuthbertLab.github.io/music21j/src/music21'}\n",
       "                });\n",
       "                require(['music21'], function() {\n",
       "                               mp = new music21.miditools.MidiPlayer();\n",
       "                               mp.addPlayer('#midiPlayerDiv411515');\n",
       "                               mp.base64Load('data:audio/midi;base64,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');\n",
       "                        });\n",
       "                </script>"
      ],
      "text/plain": [
       "<IPython.core.display.HTML object>"
      ]
     },
     "metadata": {},
     "output_type": "display_data"
    },
    {
     "name": "stdout",
     "output_type": "stream",
     "text": [
      "Test song 40\n"
     ]
    },
    {
     "data": {
      "text/html": [
       "\n",
       "                <div id='midiPlayerDiv412044'></div>\n",
       "                <link rel=\"stylesheet\" href=\"//cuthbertLab.github.io/music21j/css/m21.css\"\n",
       "                    type=\"text/css\" />\n",
       "                <script>\n",
       "                require.config({\n",
       "                    paths: {'music21': '//cuthbertLab.github.io/music21j/src/music21'}\n",
       "                });\n",
       "                require(['music21'], function() {\n",
       "                               mp = new music21.miditools.MidiPlayer();\n",
       "                               mp.addPlayer('#midiPlayerDiv412044');\n",
       "                               mp.base64Load('data:audio/midi;base64,TVRoZAAAAAYAAQABBABNVHJrAAABEAD/AwAA4ABAAMAAAP9RAwehIAD/WAQEAhgI1ACQT0yEAIBPAACQUUyEAIBRAACQN0wAkFNQhACQPkAAkFFQgSuAUwCCVYBRAACQQzwAkFNMhACAUwAAkEVIAJBRUIIAgEMAggCQR0wAkFNQggCAUQCCAIBFAACQVlCBK4BTAFWAPgCCAIA3AACAVgCBK5BYUIQAgFgAVZBTSIMrkDRMhFWAUwAAkDtEAJBTTIMrkD5MAJBRTFWAUwBVgEcAglaAUQBVkENEAJBTTFaAPgCDKoBDAACAUwAAkEdIAJBRTIQAgFEAAJBPUIQAkEBEggCANACCAIA7AACATwBVkE9QVoBAAFWARwCCVYBPAIgA/y8A');\n",
       "                        });\n",
       "                </script>"
      ],
      "text/plain": [
       "<IPython.core.display.HTML object>"
      ]
     },
     "metadata": {},
     "output_type": "display_data"
    },
    {
     "data": {
      "text/html": [
       "\n",
       "                <div id='midiPlayerDiv414741'></div>\n",
       "                <link rel=\"stylesheet\" href=\"//cuthbertLab.github.io/music21j/css/m21.css\"\n",
       "                    type=\"text/css\" />\n",
       "                <script>\n",
       "                require.config({\n",
       "                    paths: {'music21': '//cuthbertLab.github.io/music21j/src/music21'}\n",
       "                });\n",
       "                require(['music21'], function() {\n",
       "                               mp = new music21.miditools.MidiPlayer();\n",
       "                               mp.addPlayer('#midiPlayerDiv414741');\n",
       "                               mp.base64Load('data:audio/midi;base64,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');\n",
       "                        });\n",
       "                </script>"
      ],
      "text/plain": [
       "<IPython.core.display.HTML object>"
      ]
     },
     "metadata": {},
     "output_type": "display_data"
    },
    {
     "data": {
      "text/html": [
       "\n",
       "                <div id='midiPlayerDiv417233'></div>\n",
       "                <link rel=\"stylesheet\" href=\"//cuthbertLab.github.io/music21j/css/m21.css\"\n",
       "                    type=\"text/css\" />\n",
       "                <script>\n",
       "                require.config({\n",
       "                    paths: {'music21': '//cuthbertLab.github.io/music21j/src/music21'}\n",
       "                });\n",
       "                require(['music21'], function() {\n",
       "                               mp = new music21.miditools.MidiPlayer();\n",
       "                               mp.addPlayer('#midiPlayerDiv417233');\n",
       "                               mp.base64Load('data:audio/midi;base64,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');\n",
       "                        });\n",
       "                </script>"
      ],
      "text/plain": [
       "<IPython.core.display.HTML object>"
      ]
     },
     "metadata": {},
     "output_type": "display_data"
    },
    {
     "name": "stdout",
     "output_type": "stream",
     "text": [
      "Test song 41\n"
     ]
    },
    {
     "data": {
      "text/html": [
       "\n",
       "                <div id='midiPlayerDiv417494'></div>\n",
       "                <link rel=\"stylesheet\" href=\"//cuthbertLab.github.io/music21j/css/m21.css\"\n",
       "                    type=\"text/css\" />\n",
       "                <script>\n",
       "                require.config({\n",
       "                    paths: {'music21': '//cuthbertLab.github.io/music21j/src/music21'}\n",
       "                });\n",
       "                require(['music21'], function() {\n",
       "                               mp = new music21.miditools.MidiPlayer();\n",
       "                               mp.addPlayer('#midiPlayerDiv417494');\n",
       "                               mp.base64Load('data:audio/midi;base64,TVRoZAAAAAYAAQABBABNVHJrAAAA6gD/AwAA4ABAAMAAAP9RAwehIAD/WAQEAhgIkACQMEgAkDxQhgCQN0AAkD9IggCAPACCVZA8RFaAPwBVkENIhACAMAAAgDcAAJA/SFWAPACBK4BDAACQSEiCAIA/AIErkC5MglWASAAAkEpMhACQNTCBK5A+SIJVgEoAhACQOkgAkENAgSuAPgCEVYA1AFWQPjyBK4A6AIErgC4AhlWAQwBVgD4AhSuQS0yDK5AsSIJVkDM8AJA3QIJVkDhEgSuANwBVgDgAVpA/PIIAgD8AkgCALABVgEsAAIAzAIhVkEhMhACASACIAP8vAA==');\n",
       "                        });\n",
       "                </script>"
      ],
      "text/plain": [
       "<IPython.core.display.HTML object>"
      ]
     },
     "metadata": {},
     "output_type": "display_data"
    },
    {
     "data": {
      "text/html": [
       "\n",
       "                <div id='midiPlayerDiv420106'></div>\n",
       "                <link rel=\"stylesheet\" href=\"//cuthbertLab.github.io/music21j/css/m21.css\"\n",
       "                    type=\"text/css\" />\n",
       "                <script>\n",
       "                require.config({\n",
       "                    paths: {'music21': '//cuthbertLab.github.io/music21j/src/music21'}\n",
       "                });\n",
       "                require(['music21'], function() {\n",
       "                               mp = new music21.miditools.MidiPlayer();\n",
       "                               mp.addPlayer('#midiPlayerDiv420106');\n",
       "                               mp.base64Load('data:audio/midi;base64,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');\n",
       "                        });\n",
       "                </script>"
      ],
      "text/plain": [
       "<IPython.core.display.HTML object>"
      ]
     },
     "metadata": {},
     "output_type": "display_data"
    },
    {
     "data": {
      "text/html": [
       "\n",
       "                <div id='midiPlayerDiv422740'></div>\n",
       "                <link rel=\"stylesheet\" href=\"//cuthbertLab.github.io/music21j/css/m21.css\"\n",
       "                    type=\"text/css\" />\n",
       "                <script>\n",
       "                require.config({\n",
       "                    paths: {'music21': '//cuthbertLab.github.io/music21j/src/music21'}\n",
       "                });\n",
       "                require(['music21'], function() {\n",
       "                               mp = new music21.miditools.MidiPlayer();\n",
       "                               mp.addPlayer('#midiPlayerDiv422740');\n",
       "                               mp.base64Load('data:audio/midi;base64,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');\n",
       "                        });\n",
       "                </script>"
      ],
      "text/plain": [
       "<IPython.core.display.HTML object>"
      ]
     },
     "metadata": {},
     "output_type": "display_data"
    },
    {
     "name": "stdout",
     "output_type": "stream",
     "text": [
      "Test song 42\n"
     ]
    },
    {
     "data": {
      "text/html": [
       "\n",
       "                <div id='midiPlayerDiv423217'></div>\n",
       "                <link rel=\"stylesheet\" href=\"//cuthbertLab.github.io/music21j/css/m21.css\"\n",
       "                    type=\"text/css\" />\n",
       "                <script>\n",
       "                require.config({\n",
       "                    paths: {'music21': '//cuthbertLab.github.io/music21j/src/music21'}\n",
       "                });\n",
       "                require(['music21'], function() {\n",
       "                               mp = new music21.miditools.MidiPlayer();\n",
       "                               mp.addPlayer('#midiPlayerDiv423217');\n",
       "                               mp.base64Load('data:audio/midi;base64,TVRoZAAAAAYAAQABBABNVHJrAAABBgD/AwAA4ABAAMAAAP9RAwehIAD/WAQEAhgIjgCQP1SHK5BBWFWAPwCFK4BBAFWQRFCGAIBEAFWQRkyHK5AsTACQOEQAkD9EAJBITFWARgCFK5AzQIIAgD8AggCAOACCAJA4TACQPFCEAIAzAIMrkDNAglWAOAAAgDwAhACQOEQAkDxEAJBJUFWASABWgDMAggCALACCVYBJAFWQLDwAkEhUgSuAOAAAgDwAhgCQOEwAkDxQAJA/TACQRlhVgEgAglWALABWgDgAgSuAPAAAgD8AVYBGAACQLEgAkERMglWALACFK4BEAACQOjwAkDw8AJA/RIIAgDoAAIA8AIoAgD8AiAD/LwA=');\n",
       "                        });\n",
       "                </script>"
      ],
      "text/plain": [
       "<IPython.core.display.HTML object>"
      ]
     },
     "metadata": {},
     "output_type": "display_data"
    },
    {
     "data": {
      "text/html": [
       "\n",
       "                <div id='midiPlayerDiv425638'></div>\n",
       "                <link rel=\"stylesheet\" href=\"//cuthbertLab.github.io/music21j/css/m21.css\"\n",
       "                    type=\"text/css\" />\n",
       "                <script>\n",
       "                require.config({\n",
       "                    paths: {'music21': '//cuthbertLab.github.io/music21j/src/music21'}\n",
       "                });\n",
       "                require(['music21'], function() {\n",
       "                               mp = new music21.miditools.MidiPlayer();\n",
       "                               mp.addPlayer('#midiPlayerDiv425638');\n",
       "                               mp.base64Load('data:audio/midi;base64,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');\n",
       "                        });\n",
       "                </script>"
      ],
      "text/plain": [
       "<IPython.core.display.HTML object>"
      ]
     },
     "metadata": {},
     "output_type": "display_data"
    },
    {
     "data": {
      "text/html": [
       "\n",
       "                <div id='midiPlayerDiv428287'></div>\n",
       "                <link rel=\"stylesheet\" href=\"//cuthbertLab.github.io/music21j/css/m21.css\"\n",
       "                    type=\"text/css\" />\n",
       "                <script>\n",
       "                require.config({\n",
       "                    paths: {'music21': '//cuthbertLab.github.io/music21j/src/music21'}\n",
       "                });\n",
       "                require(['music21'], function() {\n",
       "                               mp = new music21.miditools.MidiPlayer();\n",
       "                               mp.addPlayer('#midiPlayerDiv428287');\n",
       "                               mp.base64Load('data:audio/midi;base64,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');\n",
       "                        });\n",
       "                </script>"
      ],
      "text/plain": [
       "<IPython.core.display.HTML object>"
      ]
     },
     "metadata": {},
     "output_type": "display_data"
    },
    {
     "name": "stdout",
     "output_type": "stream",
     "text": [
      "Test song 43\n"
     ]
    },
    {
     "data": {
      "text/html": [
       "\n",
       "                <div id='midiPlayerDiv428790'></div>\n",
       "                <link rel=\"stylesheet\" href=\"//cuthbertLab.github.io/music21j/css/m21.css\"\n",
       "                    type=\"text/css\" />\n",
       "                <script>\n",
       "                require.config({\n",
       "                    paths: {'music21': '//cuthbertLab.github.io/music21j/src/music21'}\n",
       "                });\n",
       "                require(['music21'], function() {\n",
       "                               mp = new music21.miditools.MidiPlayer();\n",
       "                               mp.addPlayer('#midiPlayerDiv428790');\n",
       "                               mp.base64Load('data:audio/midi;base64,TVRoZAAAAAYAAQABBABNVHJrAAABBgD/AwAA4ABAAMAAAP9RAwehIAD/WAQEAhgImlWQXUyBK5BcUFWAXQCBK4BcAACQWFQAkC1MAJA5QACQQEyHK5A0PFWAOQAAgEAAhgCQOUgAkEBMgSuANACFKpA0QIErgDkAAIBAAIIAgC0AAJA5RACQQExVgDQAgyuQLUiCAIA5AIErkDRAVYBAAIIAkDlIggCAOQCCAJA5SACQQEwAkEU4gSuANABVgFgAVYBFAIErkFFUAJA0SIErgDkAVYBAAFWQOVCBK5BTUIErgFEAAIA0AFWALQAAkEBMVYA5AIIAgEAAVoBTAFWQVUyCVYBVAFaQOUQAkD1IiACAOQAAgD0AiAD/LwA=');\n",
       "                        });\n",
       "                </script>"
      ],
      "text/plain": [
       "<IPython.core.display.HTML object>"
      ]
     },
     "metadata": {},
     "output_type": "display_data"
    },
    {
     "data": {
      "text/html": [
       "\n",
       "                <div id='midiPlayerDiv431530'></div>\n",
       "                <link rel=\"stylesheet\" href=\"//cuthbertLab.github.io/music21j/css/m21.css\"\n",
       "                    type=\"text/css\" />\n",
       "                <script>\n",
       "                require.config({\n",
       "                    paths: {'music21': '//cuthbertLab.github.io/music21j/src/music21'}\n",
       "                });\n",
       "                require(['music21'], function() {\n",
       "                               mp = new music21.miditools.MidiPlayer();\n",
       "                               mp.addPlayer('#midiPlayerDiv431530');\n",
       "                               mp.base64Load('data:audio/midi;base64,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');\n",
       "                        });\n",
       "                </script>"
      ],
      "text/plain": [
       "<IPython.core.display.HTML object>"
      ]
     },
     "metadata": {},
     "output_type": "display_data"
    },
    {
     "data": {
      "text/html": [
       "\n",
       "                <div id='midiPlayerDiv434085'></div>\n",
       "                <link rel=\"stylesheet\" href=\"//cuthbertLab.github.io/music21j/css/m21.css\"\n",
       "                    type=\"text/css\" />\n",
       "                <script>\n",
       "                require.config({\n",
       "                    paths: {'music21': '//cuthbertLab.github.io/music21j/src/music21'}\n",
       "                });\n",
       "                require(['music21'], function() {\n",
       "                               mp = new music21.miditools.MidiPlayer();\n",
       "                               mp.addPlayer('#midiPlayerDiv434085');\n",
       "                               mp.base64Load('data:audio/midi;base64,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');\n",
       "                        });\n",
       "                </script>"
      ],
      "text/plain": [
       "<IPython.core.display.HTML object>"
      ]
     },
     "metadata": {},
     "output_type": "display_data"
    },
    {
     "name": "stdout",
     "output_type": "stream",
     "text": [
      "Test song 44\n"
     ]
    },
    {
     "data": {
      "text/html": [
       "\n",
       "                <div id='midiPlayerDiv434636'></div>\n",
       "                <link rel=\"stylesheet\" href=\"//cuthbertLab.github.io/music21j/css/m21.css\"\n",
       "                    type=\"text/css\" />\n",
       "                <script>\n",
       "                require.config({\n",
       "                    paths: {'music21': '//cuthbertLab.github.io/music21j/src/music21'}\n",
       "                });\n",
       "                require(['music21'], function() {\n",
       "                               mp = new music21.miditools.MidiPlayer();\n",
       "                               mp.addPlayer('#midiPlayerDiv434636');\n",
       "                               mp.base64Load('data:audio/midi;base64,TVRoZAAAAAYAAQABBABNVHJrAAABBwD/AwAA4ABAAMAAAP9RAwehIAD/WAQEAhgI0ACQKUwAkEhYglWQMESIAJA1UIUrgEgAAJA5UACQSlCGAIBKAACQQUwAkE1QhSuATQBVkEhMhgCASAAAkEpQhACQTUyCAIAwAACASgBVgDUAgSuQNURVgDkAgSuAKQAAgEEAAIBNAACQKVAAkDlEAJA8RIJVgDkAgyuQMEAAkEpMglWASgBWkEhEgSqAPACBK4BIAACQOUQAkEVMhSuQPEwAkEhMVYBFAIRVkEVMVoA8AACASABVgDAAAIA5AIIAgCkAgSuANQBVkENIVYBFAIIAgEMAAJBBTIJWkCRMgSqAQQCEAYAkAIgA/y8A');\n",
       "                        });\n",
       "                </script>"
      ],
      "text/plain": [
       "<IPython.core.display.HTML object>"
      ]
     },
     "metadata": {},
     "output_type": "display_data"
    },
    {
     "data": {
      "text/html": [
       "\n",
       "                <div id='midiPlayerDiv437267'></div>\n",
       "                <link rel=\"stylesheet\" href=\"//cuthbertLab.github.io/music21j/css/m21.css\"\n",
       "                    type=\"text/css\" />\n",
       "                <script>\n",
       "                require.config({\n",
       "                    paths: {'music21': '//cuthbertLab.github.io/music21j/src/music21'}\n",
       "                });\n",
       "                require(['music21'], function() {\n",
       "                               mp = new music21.miditools.MidiPlayer();\n",
       "                               mp.addPlayer('#midiPlayerDiv437267');\n",
       "                               mp.base64Load('data:audio/midi;base64,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');\n",
       "                        });\n",
       "                </script>"
      ],
      "text/plain": [
       "<IPython.core.display.HTML object>"
      ]
     },
     "metadata": {},
     "output_type": "display_data"
    },
    {
     "data": {
      "text/html": [
       "\n",
       "                <div id='midiPlayerDiv439963'></div>\n",
       "                <link rel=\"stylesheet\" href=\"//cuthbertLab.github.io/music21j/css/m21.css\"\n",
       "                    type=\"text/css\" />\n",
       "                <script>\n",
       "                require.config({\n",
       "                    paths: {'music21': '//cuthbertLab.github.io/music21j/src/music21'}\n",
       "                });\n",
       "                require(['music21'], function() {\n",
       "                               mp = new music21.miditools.MidiPlayer();\n",
       "                               mp.addPlayer('#midiPlayerDiv439963');\n",
       "                               mp.base64Load('data:audio/midi;base64,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');\n",
       "                        });\n",
       "                </script>"
      ],
      "text/plain": [
       "<IPython.core.display.HTML object>"
      ]
     },
     "metadata": {},
     "output_type": "display_data"
    }
   ],
   "source": [
    "FIRST_N = 128\n",
    "LENGTH = 1024\n",
    "\n",
    "keys = []\n",
    "for i in range(20, 45):\n",
    "    print(f\"Test song {i}\")\n",
    "    \n",
    "    random_key = random.choice([1, 2])\n",
    "    keys.append(random_key)\n",
    "\n",
    "    primer = test_songs[-i][:FIRST_N]\n",
    "    display_audio(primer.tolist(), f\"data/music_out/fb_comp/{str(i).zfill(2)}_primer.mid\")\n",
    "\n",
    "    lstm_input = primer.tolist()\n",
    "\n",
    "    old_continuation = model.generate_sequence(lstm_input, temp=1.0, topk=128, max_length=LENGTH)\n",
    "    display_audio(old_continuation, f\"data/music_out/fb_comp/{str(i).zfill(2)}_{random_key}.mid\")\n",
    "    \n",
    "    lstm_continuation = model.generate_sequence(lstm_input, temp=1.0, topk=128, max_length=LENGTH)\n",
    "    display_audio(lstm_continuation, f\"data/music_out/fb_comp/{str(i).zfill(2)}_{3-random_key}.mid\")\n",
    "\n",
    "    # transformer_input = primer.unsqueeze(0).to(device)\n",
    "    # transformer_continuation = transformer.generate(transformer_input, length=LENGTH).tolist()\n",
    "    # display_audio(transformer_continuation, f\"data/music_out/{str(i).zfill(2)}_transformer.mid\")\n",
    "\n",
    "    # real_continuation = test_songs[i][:LENGTH].tolist()\n",
    "    # display_audio(real_continuation, f\"data/music_out/tmp/{str(i).zfill(2)}_real.mid\")"
   ]
  },
  {
   "cell_type": "code",
   "execution_count": 113,
   "metadata": {},
   "outputs": [
    {
     "data": {
      "image/png": "[encoded data removed]",
      "text/plain": [
       "<Figure size 432x288 with 1 Axes>"
      ]
     },
     "metadata": {
      "image/png": {
       "height": 277,
       "width": 418
      },
      "needs_background": "light"
     },
     "output_type": "display_data"
    }
   ],
   "source": [
    "plt.figure()\n",
    "labels = [\"Transformer\", \"LSTM\", \"Real\"]\n",
    "num_wins = [1, 9, 20]\n",
    "plt.title(\"Listening test\")\n",
    "plt.barh(labels, num_wins)\n",
    "plt.xlabel(\"Number of wins\")\n",
    "plt.xticks([0, 5, 10, 15, 20])\n",
    "plt.show()"
   ]
  },
  {
   "cell_type": "markdown",
   "metadata": {},
   "source": [
    "## Getting Listener Feedback"
   ]
  },
  {
   "cell_type": "code",
   "execution_count": 114,
   "metadata": {},
   "outputs": [],
   "source": [
    "feedback_data = []\n",
    "feedback_data = torch.load(\"data/feedback/feedback_2.pt\")"
   ]
  },
  {
   "cell_type": "code",
   "execution_count": 49,
   "metadata": {},
   "outputs": [],
   "source": [
    "FIRST_N = 128\n",
    "LENGTH = 1024\n",
    "NUM_CROPS = 5\n",
    "CROP_LENGTH = 128"
   ]
  },
  {
   "cell_type": "code",
   "execution_count": 136,
   "metadata": {},
   "outputs": [
    {
     "data": {
      "text/html": [
       "\n",
       "                <div id='midiPlayerDiv107541'></div>\n",
       "                <link rel=\"stylesheet\" href=\"//cuthbertLab.github.io/music21j/css/m21.css\"\n",
       "                    type=\"text/css\" />\n",
       "                <script>\n",
       "                require.config({\n",
       "                    paths: {'music21': '//cuthbertLab.github.io/music21j/src/music21'}\n",
       "                });\n",
       "                require(['music21'], function() {\n",
       "                               mp = new music21.miditools.MidiPlayer();\n",
       "                               mp.addPlayer('#midiPlayerDiv107541');\n",
       "                               mp.base64Load('data:audio/midi;base64,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');\n",
       "                        });\n",
       "                </script>"
      ],
      "text/plain": [
       "<IPython.core.display.HTML object>"
      ]
     },
     "metadata": {},
     "output_type": "display_data"
    }
   ],
   "source": [
    "display_audio(primer.tolist() + lstm_continuation, f\"data/music_out/tmp/crop_tmp.mid\")"
   ]
  },
  {
   "cell_type": "code",
   "execution_count": 147,
   "metadata": {},
   "outputs": [
    {
     "data": {
      "text/html": [
       "\n",
       "                <div id='midiPlayerDiv121078'></div>\n",
       "                <link rel=\"stylesheet\" href=\"//cuthbertLab.github.io/music21j/css/m21.css\"\n",
       "                    type=\"text/css\" />\n",
       "                <script>\n",
       "                require.config({\n",
       "                    paths: {'music21': '//cuthbertLab.github.io/music21j/src/music21'}\n",
       "                });\n",
       "                require(['music21'], function() {\n",
       "                               mp = new music21.miditools.MidiPlayer();\n",
       "                               mp.addPlayer('#midiPlayerDiv121078');\n",
       "                               mp.base64Load('data:audio/midi;base64,TVRoZAAAAAYAAQABBABNVHJrAAAA2wD/AwAA4ABAAMAAAP9RAwehIAD/WAQEAhgIilWQM0QAkEdYhACARwCBK5A7XACQQFwAkEdcAJBEXIJVgDMAgSuAOwCBK4BAAACARwCCVYBEAACQRliCAIBGAIMrkEJchgCAQgBVgDoAAJAnUACQOkwAkD9YhgCQLkCGAIA/AACQOlAAkEdchACARwCCAJAzQACQQ0iCAIAnAACALgAAgDoAhSuQP2BVgDMAhACAQwBVkERUAYA/AIUqgEQAAJAsSACQRmCFK4AsAACARgBVkDhUggCAOACIAP8vAA==');\n",
       "                        });\n",
       "                </script>"
      ],
      "text/plain": [
       "<IPython.core.display.HTML object>"
      ]
     },
     "metadata": {},
     "output_type": "display_data"
    },
    {
     "data": {
      "text/html": [
       "\n",
       "                <div id='midiPlayerDiv121591'></div>\n",
       "                <link rel=\"stylesheet\" href=\"//cuthbertLab.github.io/music21j/css/m21.css\"\n",
       "                    type=\"text/css\" />\n",
       "                <script>\n",
       "                require.config({\n",
       "                    paths: {'music21': '//cuthbertLab.github.io/music21j/src/music21'}\n",
       "                });\n",
       "                require(['music21'], function() {\n",
       "                               mp = new music21.miditools.MidiPlayer();\n",
       "                               mp.addPlayer('#midiPlayerDiv121591');\n",
       "                               mp.base64Load('data:audio/midi;base64,TVRoZAAAAAYAAQABBABNVHJrAAAA+QD/AwAA4ABAAMAAAP9RAwehIAD/WAQEAhgIiACQOFiGAJA9WIQAgDgAgyuQOEyEVYA9AIIAkC9QAJA0TACQO1AAkFBUgSuAOABVgDQAggCAOwCCVZA0UACQTlSBK4BQAIEqgDQAVoAvAIJVgE4AgSuQKFAAkDRQAJA7UACQUGCGAJAvRIYAkDhIgSuAOwCEVZA/WIIAgFAAhACAPwBVkDtYAJA9UACQSVyBK4AvAACAOABVgCgAAIA7AFWAPQCCVoA0AFWASQCBK5A7TACQO0yCAIA7AIYAgDsAgyuQOFAAkDpAAJA7WIIAgDgAAIA6AACAOwCIAP8vAA==');\n",
       "                        });\n",
       "                </script>"
      ],
      "text/plain": [
       "<IPython.core.display.HTML object>"
      ]
     },
     "metadata": {},
     "output_type": "display_data"
    },
    {
     "data": {
      "text/html": [
       "\n",
       "                <div id='midiPlayerDiv121985'></div>\n",
       "                <link rel=\"stylesheet\" href=\"//cuthbertLab.github.io/music21j/css/m21.css\"\n",
       "                    type=\"text/css\" />\n",
       "                <script>\n",
       "                require.config({\n",
       "                    paths: {'music21': '//cuthbertLab.github.io/music21j/src/music21'}\n",
       "                });\n",
       "                require(['music21'], function() {\n",
       "                               mp = new music21.miditools.MidiPlayer();\n",
       "                               mp.addPlayer('#midiPlayerDiv121985');\n",
       "                               mp.base64Load('data:audio/midi;base64,TVRoZAAAAAYAAQABBABNVHJrAAAA3wD/AwAA4ABAAMAAAP9RAwehIAD/WAQEAhgIilWQRliCAIBGAIMrkEJchgCAQgAAgDoAAJAnUACQOkwAkD9YhyuQLkCEVYA/AIIAkDpQAJBHXIQAgEcAggCAJwAAkDNAAJBDSIErgC4AVYA6AIQAkD9gggCAMwCDK4A/AFWAQwAAkERUhSuARABVkCxIAJBGYIUrgCwAAIBGAFWQOFSCAIA4AIQAkDhQAJA7UIYAgDgAAJA2TACQP1yCAIA7AIMrgDYAggCQO1hVgD8AhFaAOwCBKpA7TIIAgDsAiAD/LwA=');\n",
       "                        });\n",
       "                </script>"
      ],
      "text/plain": [
       "<IPython.core.display.HTML object>"
      ]
     },
     "metadata": {},
     "output_type": "display_data"
    },
    {
     "data": {
      "text/html": [
       "\n",
       "                <div id='midiPlayerDiv122467'></div>\n",
       "                <link rel=\"stylesheet\" href=\"//cuthbertLab.github.io/music21j/css/m21.css\"\n",
       "                    type=\"text/css\" />\n",
       "                <script>\n",
       "                require.config({\n",
       "                    paths: {'music21': '//cuthbertLab.github.io/music21j/src/music21'}\n",
       "                });\n",
       "                require(['music21'], function() {\n",
       "                               mp = new music21.miditools.MidiPlayer();\n",
       "                               mp.addPlayer('#midiPlayerDiv122467');\n",
       "                               mp.base64Load('data:audio/midi;base64,TVRoZAAAAAYAAQABBABNVHJrAAABAgD/AwAA4ABAAMAAAP9RAwehIAD/WAQEAhgIiACQOEiGAIA4AACQMVAAkEBMAJBEXIcrkDhQAJBCWFWAQAAAgEQAggCAQgAAkERYglWQQFQAkEdYgSuARACDK4A4AFWQPUwAkERcVYBHAIUrgD0AAIBEAFWAQACBK5A4VACQR1iFK5A9WACQRFRVgDEAAIA4AIMrgD0AgSuARACBKoBHAACQQliGVZA7UIUrkDZQggCANgBVgDsAglaQSVCBKoBCAIkrkDZEgSuASQCQVYA2AIYAkDZMAJA7TACQP1CCAIA/AFWANgCDK4A7AIIAkDZMhSuQL0xVgDYAhSuALwCIAP8vAA==');\n",
       "                        });\n",
       "                </script>"
      ],
      "text/plain": [
       "<IPython.core.display.HTML object>"
      ]
     },
     "metadata": {},
     "output_type": "display_data"
    },
    {
     "data": {
      "text/html": [
       "\n",
       "                <div id='midiPlayerDiv122941'></div>\n",
       "                <link rel=\"stylesheet\" href=\"//cuthbertLab.github.io/music21j/css/m21.css\"\n",
       "                    type=\"text/css\" />\n",
       "                <script>\n",
       "                require.config({\n",
       "                    paths: {'music21': '//cuthbertLab.github.io/music21j/src/music21'}\n",
       "                });\n",
       "                require(['music21'], function() {\n",
       "                               mp = new music21.miditools.MidiPlayer();\n",
       "                               mp.addPlayer('#midiPlayerDiv122941');\n",
       "                               mp.base64Load('data:audio/midi;base64,TVRoZAAAAAYAAQABBABNVHJrAAAA7wD/AwAA4ABAAMAAAP9RAwehIAD/WAQEAhgIjSuQO1wAkEBcAJBHXACQRFyEAIA7AIErgEAAAIBHAIEqkEZYgSuARABVgEYAhACQQlyGAIBCAACAOgAAkCdQAJA6TACQP1iGAJAuQIYAgD8AgSuQOlAAkEdchACARwCBKpAzQACQQ0iBK4AnAACALgCBK4A6AIRVkD9gVYAzAIQAgEMAVoA/AFWQRFSFK4BEAACQLEgAkEZghSqQOFQBgCwAAIBGAIF/gDgAhSuQOFAAkDtQhgCAOAAAkDZMAJA/XIIAgDsAgyuANgCCVYA/AIgA/y8A');\n",
       "                        });\n",
       "                </script>"
      ],
      "text/plain": [
       "<IPython.core.display.HTML object>"
      ]
     },
     "metadata": {},
     "output_type": "display_data"
    }
   ],
   "source": [
    "test_song = random.choice(test_songs)\n",
    "primer = test_song[:FIRST_N]\n",
    "lstm_input = primer.tolist()\n",
    "lstm_continuation = model.generate_sequence(lstm_input, temp=1.0, topk=128, max_length=LENGTH)[FIRST_N:]\n",
    "crops = []\n",
    "for _ in range(NUM_CROPS):\n",
    "    start_index = np.random.randint(0, len(lstm_continuation) - CROP_LENGTH)\n",
    "    end_index = start_index + CROP_LENGTH\n",
    "    random_crop = lstm_continuation[start_index:end_index]\n",
    "    crops.append(random_crop)\n",
    "    display_audio(random_crop, f\"data/music_out/tmp/crop_tmp.mid\")"
   ]
  },
  {
   "cell_type": "code",
   "execution_count": 148,
   "metadata": {},
   "outputs": [
    {
     "name": "stdout",
     "output_type": "stream",
     "text": [
      "Num samples: 96\n"
     ]
    }
   ],
   "source": [
    "rewards = [1, 3, 1, 0, 0]\n",
    "feedback = list(zip(crops, rewards))\n",
    "feedback_data = feedback_data + feedback\n",
    "feedback_data = [d for d in feedback_data if d[1] > 0]\n",
    "print(f\"Num samples: {len(feedback_data)}\")"
   ]
  },
  {
   "cell_type": "code",
   "execution_count": 149,
   "metadata": {},
   "outputs": [],
   "source": [
    "torch.save(feedback_data, \"data/feedback/feedback_3.pt\")"
   ]
  },
  {
   "cell_type": "code",
   "execution_count": 150,
   "metadata": {},
   "outputs": [
    {
     "data": {
      "image/png": "[encoded data removed]",
      "text/plain": [
       "<Figure size 432x288 with 1 Axes>"
      ]
     },
     "metadata": {
      "image/png": {
       "height": 248,
       "width": 372
      },
      "needs_background": "light"
     },
     "output_type": "display_data"
    }
   ],
   "source": [
    "from collections import Counter\n",
    "\n",
    "reward_counter = Counter([f[1] for f in feedback_data])\n",
    "reward_counts = reward_counter.values()\n",
    "reward_labels = reward_counter.keys()\n",
    "\n",
    "plt.figure()\n",
    "plt.bar(reward_labels, reward_counts)\n",
    "plt.show()"
   ]
  },
  {
   "cell_type": "markdown",
   "metadata": {},
   "source": [
    "## Feedback training"
   ]
  },
  {
   "cell_type": "code",
   "execution_count": 66,
   "metadata": {},
   "outputs": [],
   "source": [
    "BATCH_SIZE = 128\n",
    "FB_BATCH_SIZE = 8\n",
    "ALPHA = 0.99\n",
    "LAMBDA = 0.5\n",
    "NUM_EPOCHS = 16\n",
    "\n",
    "LOG_EVERY_N = 1\n",
    "VAL_EVERY_N = 5\n",
    "SAVE_EVERY_N = 1"
   ]
  },
  {
   "cell_type": "code",
   "execution_count": 67,
   "metadata": {},
   "outputs": [
    {
     "name": "stdout",
     "output_type": "stream",
     "text": [
      "48.171875\n",
      "4.375\n"
     ]
    }
   ],
   "source": [
    "print(len(train_data) / BATCH_SIZE)\n",
    "print(len(feedback_data) / FB_BATCH_SIZE)"
   ]
  },
  {
   "cell_type": "code",
   "execution_count": 73,
   "metadata": {},
   "outputs": [
    {
     "data": {
      "text/plain": [
       "<All keys matched successfully>"
      ]
     },
     "execution_count": 73,
     "metadata": {},
     "output_type": "execute_result"
    }
   ],
   "source": [
    "model = MusicRNN(\n",
    "    embedding_dim=EMBEDDING_DIM,\n",
    "    hidden_dim=HIDDEN_DIM,\n",
    "    vocab_size=VOCAB_SIZE,\n",
    "    rnn_type=\"lstm\",\n",
    "    num_layers=NUM_LAYERS,\n",
    "    dropout=DROPOUT,\n",
    ").to(device)\n",
    "state_dict = torch.load(\"models/ckpt_200.pt\")[\"model_state_dict\"]\n",
    "model.load_state_dict(state_dict)"
   ]
  },
  {
   "cell_type": "code",
   "execution_count": 151,
   "metadata": {},
   "outputs": [],
   "source": [
    "xe_loss = nn.CrossEntropyLoss(ignore_index=PAD_TOKEN, reduction=\"none\")\n",
    "def fb_loss_function(y_hat, y, rewards, alpha):\n",
    "    xe = xe_loss(y_hat, y)\n",
    "    K = xe.shape[1]\n",
    "    coef = (alpha - 1) / (alpha ** K - 1)\n",
    "    weights = coef * np.power(alpha, (K - np.arange(K) - 1))\n",
    "    weights_tensor = torch.tensor(weights, device=device)\n",
    "    weighted_xe = weights_tensor * xe\n",
    "    loss_per_seq = rewards * torch.sum(weighted_xe, axis=1)\n",
    "    return torch.mean(loss_per_seq)\n",
    "\n",
    "loss_function = nn.CrossEntropyLoss(ignore_index=PAD_TOKEN)\n",
    "optimizer = torch.optim.Adam(model.parameters(), lr=LEARNING_RATE)"
   ]
  },
  {
   "cell_type": "code",
   "execution_count": 152,
   "metadata": {},
   "outputs": [],
   "source": [
    "def collate_fn(samples):\n",
    "    x = torch.LongTensor([sample[0] for sample in samples])\n",
    "    y = torch.LongTensor([sample[1] for sample in samples])\n",
    "    return x, y\n",
    "\n",
    "train_loader = DataLoader(\n",
    "    train_data,\n",
    "    batch_size=BATCH_SIZE,\n",
    "    shuffle=True,\n",
    "    num_workers=2,\n",
    "    collate_fn=torch.stack,\n",
    ")\n",
    "feedback_loader = DataLoader(\n",
    "    feedback_data,\n",
    "    batch_size=FB_BATCH_SIZE,\n",
    "    shuffle=True,\n",
    "    num_workers=2,\n",
    "    collate_fn=collate_fn,\n",
    ")"
   ]
  },
  {
   "cell_type": "code",
   "execution_count": 153,
   "metadata": {},
   "outputs": [],
   "source": [
    "now = datetime.now().strftime(\"%Y-%m-%d_%H:%M\")\n",
    "exp_name = (\n",
    "    f\"Feedback,bs={BATCH_SIZE},fbs={FB_BATCH_SIZE},alpha={ALPHA},\"\n",
    "    f\"lambda={LAMBDA},nepochs={NUM_EPOCHS},t={now}\"\n",
    ")\n",
    "writer = SummaryWriter(f\"runs/{exp_name}\")"
   ]
  },
  {
   "cell_type": "code",
   "execution_count": 154,
   "metadata": {},
   "outputs": [
    {
     "data": {
      "application/vnd.jupyter.widget-view+json": {
       "model_id": "34193649f24c4e1cae220900614b6530",
       "version_major": 2,
       "version_minor": 0
      },
      "text/plain": [
       "HBox(children=(FloatProgress(value=0.0, max=16.0), HTML(value='')))"
      ]
     },
     "metadata": {},
     "output_type": "display_data"
    },
    {
     "data": {
      "text/html": [
       "\n",
       "                <div id='midiPlayerDiv125749'></div>\n",
       "                <link rel=\"stylesheet\" href=\"//cuthbertLab.github.io/music21j/css/m21.css\"\n",
       "                    type=\"text/css\" />\n",
       "                <script>\n",
       "                require.config({\n",
       "                    paths: {'music21': '//cuthbertLab.github.io/music21j/src/music21'}\n",
       "                });\n",
       "                require(['music21'], function() {\n",
       "                               mp = new music21.miditools.MidiPlayer();\n",
       "                               mp.addPlayer('#midiPlayerDiv125749');\n",
       "                               mp.base64Load('data:audio/midi;base64,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');\n",
       "                        });\n",
       "                </script>"
      ],
      "text/plain": [
       "<IPython.core.display.HTML object>"
      ]
     },
     "metadata": {},
     "output_type": "display_data"
    },
    {
     "data": {
      "text/html": [
       "\n",
       "                <div id='midiPlayerDiv128353'></div>\n",
       "                <link rel=\"stylesheet\" href=\"//cuthbertLab.github.io/music21j/css/m21.css\"\n",
       "                    type=\"text/css\" />\n",
       "                <script>\n",
       "                require.config({\n",
       "                    paths: {'music21': '//cuthbertLab.github.io/music21j/src/music21'}\n",
       "                });\n",
       "                require(['music21'], function() {\n",
       "                               mp = new music21.miditools.MidiPlayer();\n",
       "                               mp.addPlayer('#midiPlayerDiv128353');\n",
       "                               mp.base64Load('data:audio/midi;base64,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');\n",
       "                        });\n",
       "                </script>"
      ],
      "text/plain": [
       "<IPython.core.display.HTML object>"
      ]
     },
     "metadata": {},
     "output_type": "display_data"
    },
    {
     "data": {
      "text/html": [
       "\n",
       "                <div id='midiPlayerDiv130846'></div>\n",
       "                <link rel=\"stylesheet\" href=\"//cuthbertLab.github.io/music21j/css/m21.css\"\n",
       "                    type=\"text/css\" />\n",
       "                <script>\n",
       "                require.config({\n",
       "                    paths: {'music21': '//cuthbertLab.github.io/music21j/src/music21'}\n",
       "                });\n",
       "                require(['music21'], function() {\n",
       "                               mp = new music21.miditools.MidiPlayer();\n",
       "                               mp.addPlayer('#midiPlayerDiv130846');\n",
       "                               mp.base64Load('data:audio/midi;base64,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');\n",
       "                        });\n",
       "                </script>"
      ],
      "text/plain": [
       "<IPython.core.display.HTML object>"
      ]
     },
     "metadata": {},
     "output_type": "display_data"
    },
    {
     "name": "stdout",
     "output_type": "stream",
     "text": [
      "\n"
     ]
    }
   ],
   "source": [
    "for epoch in trange(1, NUM_EPOCHS + 1):\n",
    "    model.train()\n",
    "    total_loss = 0.0\n",
    "    for batch in train_loader:\n",
    "        fb_batch, fb_rewards = next(iter(feedback_loader))\n",
    "\n",
    "        # Move to GPU if available.\n",
    "        batch = batch.to(device)\n",
    "        fb_batch = fb_batch.to(device)\n",
    "        fb_rewards = fb_rewards.to(device)\n",
    "\n",
    "        # Reset gradients.\n",
    "        model.zero_grad()\n",
    "\n",
    "        # Prepare inputs and targets.\n",
    "        x = batch[:, :-1]\n",
    "        y = batch[:, 1:]\n",
    "        fb_x = fb_batch[:, :-1]\n",
    "        fb_y = fb_batch[:, 1:]\n",
    "                \n",
    "        # Forward prop.\n",
    "        y_hat = model(x)\n",
    "        fb_y_hat = model(fb_x)\n",
    "        \n",
    "        # Swap token dim and output dim.\n",
    "        y_hat = y_hat.transpose(1, 2)\n",
    "        fb_y_hat = fb_y_hat.transpose(1, 2)\n",
    "        \n",
    "        # Compute loss.\n",
    "        orig_loss = loss_function(y_hat, y)\n",
    "        fb_loss = fb_loss_function(fb_y_hat, fb_y, fb_rewards, alpha=ALPHA)\n",
    "        loss = orig_loss + LAMBDA * fb_loss\n",
    "        total_loss += loss.item()\n",
    "\n",
    "        # Back prop.\n",
    "        loss.backward()\n",
    "        \n",
    "        # Clip gradients.\n",
    "        clip_grad_norm_(model.parameters(), CLIPPING_THRESHOLD)\n",
    "        \n",
    "        # Update parameters.\n",
    "        optimizer.step()\n",
    "        \n",
    "    if epoch % LOG_EVERY_N == 0:\n",
    "        avg_loss = total_loss / len(train_loader)  # per token loss\n",
    "        writer.add_scalar(\"train_loss\", avg_loss, global_step=epoch)\n",
    "        \n",
    "        train_ppl = math.exp(avg_loss)\n",
    "        writer.add_scalar(\"train_ppl\", train_ppl, global_step=epoch)\n",
    "\n",
    "    if epoch % VAL_EVERY_N == 0:\n",
    "        val_ppl = validate(model, val_loader)\n",
    "        writer.add_scalar(\"val_ppl\", val_ppl, global_step=epoch)\n",
    "        seq = model.generate_sequence(temp=1.0, topk=32)\n",
    "        display_audio(seq, \"data/music_out/tmp/tmp.mid\")\n",
    "\n",
    "    if epoch % SAVE_EVERY_N == 0:\n",
    "        state_checkpoint = {\n",
    "            \"epoch\": epoch,\n",
    "            \"model_state_dict\": model.state_dict(),\n",
    "            \"optimizer_state_dict\": optimizer.state_dict(),\n",
    "        }\n",
    "        torch.save(state_checkpoint, f\"models/fb_checkpoints/ckpt_{epoch}.pt\")"
   ]
  },
  {
   "cell_type": "code",
   "execution_count": 157,
   "metadata": {},
   "outputs": [],
   "source": [
    "torch.save(model.state_dict(), \"models/fb_lstm_3.pt\")"
   ]
  },
  {
   "cell_type": "markdown",
   "metadata": {},
   "source": [
    "## Generating music"
   ]
  },
  {
   "cell_type": "code",
   "execution_count": null,
   "metadata": {},
   "outputs": [],
   "source": [
    "lstm = MusicRNN(\n",
    "    embedding_dim=64,\n",
    "    hidden_dim=256,\n",
    "    vocab_size=VOCAB_SIZE,\n",
    "    rnn_type=\"lstm\",\n",
    "    num_layers=2,\n",
    "    dropout=0.5,\n",
    ").to(device)\n",
    "\n",
    "sd = torch.load(\"models/lstm(64,256),lr=0.001,bsz=256,nepochs=250,sl=1024,dropout=0.5,t=2020-11-13_14:30.pt\")[\"model_state_dict\"]\n",
    "lstm.load_state_dict(sd)"
   ]
  },
  {
   "cell_type": "code",
   "execution_count": null,
   "metadata": {},
   "outputs": [],
   "source": [
    "FIRST_N = 125\n",
    "IDX = 10\n",
    "\n",
    "primer = test_songs[IDX][:FIRST_N].tolist()\n",
    "display_audio(primer)"
   ]
  },
  {
   "cell_type": "code",
   "execution_count": null,
   "metadata": {},
   "outputs": [],
   "source": []
  },
  {
   "cell_type": "code",
   "execution_count": null,
   "metadata": {},
   "outputs": [],
   "source": [
    "# primer = torch.LongTensor([[BOS_TOKEN]]).to(device)\n",
    "primer = test_songs[IDX][:FIRST_N].unsqueeze(0).to(device)\n",
    "seq = transformer.generate(primer, length=1024)\n",
    "display_audio(seq.tolist())"
   ]
  },
  {
   "cell_type": "code",
   "execution_count": null,
   "metadata": {},
   "outputs": [],
   "source": []
  },
  {
   "cell_type": "code",
   "execution_count": null,
   "metadata": {},
   "outputs": [],
   "source": [
    "primer = test_songs[IDX][:FIRST_N].tolist()\n",
    "continuation = lstm.generate_sequence(primer, temp=1.0, topk=128)\n",
    "display_audio(continuation)"
   ]
  },
  {
   "cell_type": "code",
   "execution_count": null,
   "metadata": {},
   "outputs": [],
   "source": []
  }
 ],
 "metadata": {
  "kernelspec": {
   "display_name": "Python 3",
   "language": "python",
   "name": "python3"
  },
  "language_info": {
   "codemirror_mode": {
    "name": "ipython",
    "version": 3
   },
   "file_extension": ".py",
   "mimetype": "text/x-python",
   "name": "python",
   "nbconvert_exporter": "python",
   "pygments_lexer": "ipython3",
   "version": "3.7.6"
  }
 },
 "nbformat": 4,
 "nbformat_minor": 4
}
