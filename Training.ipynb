{
 "cells": [
  {
   "cell_type": "code",
   "execution_count": 1,
   "metadata": {},
   "outputs": [],
   "source": [
    "%load_ext autoreload\n",
    "%autoreload 2"
   ]
  },
  {
   "cell_type": "code",
   "execution_count": 2,
   "metadata": {},
   "outputs": [
    {
     "name": "stdout",
     "output_type": "stream",
     "text": [
      "3.7.6 (default, Jan  8 2020, 19:59:22) \n",
      "[GCC 7.3.0]\n"
     ]
    }
   ],
   "source": [
    "import sys\n",
    "print(sys.version)"
   ]
  },
  {
   "cell_type": "code",
   "execution_count": 3,
   "metadata": {},
   "outputs": [],
   "source": [
    "import math\n",
    "import os\n",
    "import pickle\n",
    "import random\n",
    "from datetime import datetime\n",
    "\n",
    "import numpy as np\n",
    "import torch\n",
    "from matplotlib import pyplot as plt\n",
    "from music21 import converter\n",
    "from torch import nn\n",
    "from torch.nn import functional as F\n",
    "from torch.nn.utils import clip_grad_norm_\n",
    "from torch.nn.utils.rnn import pad_sequence\n",
    "from torch.utils.data import Dataset, DataLoader\n",
    "from torch.utils.tensorboard import SummaryWriter\n",
    "from tqdm.notebook import trange, tqdm\n",
    "from IPython.display import display, Audio\n",
    "\n",
    "from utils import decode_midi"
   ]
  },
  {
   "cell_type": "code",
   "execution_count": 4,
   "metadata": {},
   "outputs": [
    {
     "name": "stdout",
     "output_type": "stream",
     "text": [
      "Device: cuda\n"
     ]
    }
   ],
   "source": [
    "device = torch.device(\"cuda\") if torch.cuda.is_available() else torch.device(\"cpu\")\n",
    "print(f\"Device: {device}\")"
   ]
  },
  {
   "cell_type": "code",
   "execution_count": 5,
   "metadata": {},
   "outputs": [],
   "source": [
    "torch.manual_seed(0);"
   ]
  },
  {
   "cell_type": "markdown",
   "metadata": {},
   "source": [
    "## Data processing"
   ]
  },
  {
   "cell_type": "code",
   "execution_count": 6,
   "metadata": {},
   "outputs": [],
   "source": [
    "DATA_ROOT = \"data/pop_pickle\"\n",
    "N_SAMPLES = 909\n",
    "VOCAB_SIZE = 390\n",
    "BOS_TOKEN = VOCAB_SIZE - 2\n",
    "PAD_TOKEN = VOCAB_SIZE - 1"
   ]
  },
  {
   "cell_type": "code",
   "execution_count": 7,
   "metadata": {},
   "outputs": [],
   "source": [
    "dataset = []\n",
    "for i in range(N_SAMPLES):\n",
    "    file_name = str(i + 1).zfill(3) + \".pickle\"\n",
    "    path = os.path.join(DATA_ROOT, file_name)\n",
    "    with open(path, \"rb\") as f:\n",
    "        seq = pickle.load(f)\n",
    "        seq_tensor = torch.LongTensor(seq)\n",
    "    dataset.append(seq_tensor)"
   ]
  },
  {
   "cell_type": "code",
   "execution_count": 8,
   "metadata": {},
   "outputs": [
    {
     "data": {
      "image/png": "[encoded data removed]",
      "text/plain": [
       "<Figure size 432x288 with 1 Axes>"
      ]
     },
     "metadata": {
      "needs_background": "light"
     },
     "output_type": "display_data"
    }
   ],
   "source": [
    "seq_lens = [len(seq) for seq in dataset]\n",
    "\n",
    "plt.figure()\n",
    "plt.hist(seq_lens, bins=25)\n",
    "plt.show()"
   ]
  },
  {
   "cell_type": "code",
   "execution_count": 181,
   "metadata": {},
   "outputs": [
    {
     "name": "stdout",
     "output_type": "stream",
     "text": [
      "Train: 819 \t Val: 45 \t Test: 45\n"
     ]
    }
   ],
   "source": [
    "N_VAL = N_TEST = int(0.05 * 909)\n",
    "N_TRAIN = 909 - (N_VAL + N_TEST)\n",
    "\n",
    "train_songs = dataset[:N_TRAIN]\n",
    "val_songs = dataset[N_TRAIN:N_TRAIN+N_VAL]\n",
    "test_songs = dataset[N_TRAIN+N_VAL:]\n",
    "\n",
    "print(f\"Train: {len(train_songs)} \\t Val: {len(val_songs)} \\t Test: {len(test_songs)}\")"
   ]
  },
  {
   "cell_type": "code",
   "execution_count": 10,
   "metadata": {},
   "outputs": [],
   "source": [
    "def batchify(seq, new_seq_len):\n",
    "    \"\"\"\n",
    "    Convert a sequence into a batch of equal-length sequences,\n",
    "    and prepend a BOS token at the start of every sequence.\n",
    "    \n",
    "    Unless new_seq_len perfectly divides the number of tokens\n",
    "    in seq, the last sequence will be padded with PAD_TOKENs.\n",
    "    \"\"\"\n",
    "    n = seq.numel() % new_seq_len\n",
    "    pad_size = 0 if n == 0 else new_seq_len - n\n",
    "    pad = torch.full(size=(pad_size,), fill_value=PAD_TOKEN)\n",
    "    seq = torch.cat([seq, pad])\n",
    "    assert seq.numel() % new_seq_len == 0\n",
    "    num_batches = int(seq.numel() / new_seq_len)\n",
    "    batch = seq.view(num_batches, -1)\n",
    "    bos = torch.full(size=(num_batches, 1), fill_value=BOS_TOKEN)\n",
    "    batch = torch.cat([bos, batch], dim=1)    \n",
    "    return batch"
   ]
  },
  {
   "cell_type": "code",
   "execution_count": 11,
   "metadata": {},
   "outputs": [
    {
     "name": "stdout",
     "output_type": "stream",
     "text": [
      "Train: 6166 \t Val: 355 \t Test: 336\n"
     ]
    }
   ],
   "source": [
    "SEQ_LEN = 1024\n",
    "\n",
    "train_data = torch.cat([batchify(seq, SEQ_LEN) for seq in train_songs])\n",
    "val_data = torch.cat([batchify(seq, SEQ_LEN) for seq in val_songs])\n",
    "test_data = torch.cat([batchify(seq, SEQ_LEN) for seq in test_songs])\n",
    "\n",
    "print(f\"Train: {len(train_data)} \\t Val: {len(val_data)} \\t Test: {len(test_data)}\")"
   ]
  },
  {
   "cell_type": "markdown",
   "metadata": {},
   "source": [
    "## Training the initial model"
   ]
  },
  {
   "cell_type": "code",
   "execution_count": 150,
   "metadata": {},
   "outputs": [],
   "source": [
    "class MusicRNN(nn.Module):\n",
    "    def __init__(self, embedding_dim, hidden_dim, vocab_size, rnn_type=\"lstm\", num_layers=1, dropout=0.0):\n",
    "        assert rnn_type in [\"lstm\", \"gru\"]\n",
    "\n",
    "        super().__init__()\n",
    "\n",
    "        self.embedding_dim = embedding_dim\n",
    "        self.hidden_dim = hidden_dim\n",
    "        self.vocab_size = vocab_size\n",
    "        self.rnn_type = rnn_type\n",
    "        self.num_layers = num_layers\n",
    "        self.dropout = dropout\n",
    "\n",
    "        self.embeddings = nn.Embedding(vocab_size, embedding_dim)\n",
    "        if rnn_type == \"lstm\":\n",
    "            self.rnn = nn.LSTM(embedding_dim, hidden_dim, num_layers, dropout=dropout, batch_first=True) \n",
    "        else:\n",
    "            self.rnn = nn.GRU(embedding_dim, hidden_dim, num_layers, dropout=dropout, batch_first=True)\n",
    "        self.fc = nn.Linear(hidden_dim, vocab_size)\n",
    "    \n",
    "        self.hidden_state = None\n",
    "\n",
    "    def forward(self, x, reset_hidden_state=True):\n",
    "        x = self.embeddings(x)\n",
    "        if reset_hidden_state:\n",
    "            x, _ = self.rnn(x)\n",
    "        else:\n",
    "            x, self.hidden_state = self.rnn(x, self.hidden_state)\n",
    "        x = self.fc(x)\n",
    "        return x\n",
    "\n",
    "    def generate_sequence(self, seq_start=None, max_length=1024, **kwargs):\n",
    "        if not seq_start:\n",
    "            seq_start = [BOS_TOKEN]\n",
    "        seq = seq_start.copy()\n",
    "        with torch.no_grad():\n",
    "            next_token = self._generate_next_token(\n",
    "                next_input=torch.LongTensor(seq).to(device),\n",
    "                reset_hidden=True,\n",
    "                **kwargs\n",
    "            )\n",
    "            while len(seq) <= max_length:\n",
    "                next_token = self._generate_next_token(\n",
    "                    next_input=torch.LongTensor([next_token]).to(device),\n",
    "                    reset_hidden=False,\n",
    "                    **kwargs\n",
    "                )\n",
    "                seq.append(next_token)\n",
    "        return seq\n",
    "    \n",
    "    def _generate_next_token(self, next_input, reset_hidden=False, temp=1.0, topk=5, argmax=False):\n",
    "        # The model expects a batch input, so we add a fake batch dimension.\n",
    "        model_input = next_input.unsqueeze(0)\n",
    "        # Then, we need to remove the fake batch dimension from the output.\n",
    "        model_output = self(model_input, reset_hidden).squeeze(0)\n",
    "        next_token_probs = F.softmax(model_output[-1] / temp, dim=0)\n",
    "        if argmax:\n",
    "            next_token = torch.argmax(next_token_probs)\n",
    "        else:\n",
    "            top_tokens = torch.topk(next_token_probs, topk)\n",
    "            top_indices = top_tokens.indices\n",
    "            top_probs = top_tokens.values\n",
    "            top_probs /= torch.sum(top_probs)\n",
    "            next_token = np.random.choice(top_indices.cpu().numpy(), p=top_probs.cpu().numpy())\n",
    "        return next_token.item()"
   ]
  },
  {
   "cell_type": "code",
   "execution_count": 179,
   "metadata": {},
   "outputs": [],
   "source": [
    "def validate(model, data_loader):\n",
    "    model.eval()\n",
    "    with torch.no_grad():\n",
    "        total_loss = 0.0\n",
    "        for batch in data_loader:\n",
    "            batch = batch.to(device)\n",
    "            x = batch[:, :-1]\n",
    "            y = batch[:, 1:]\n",
    "            y_hat = model(x)\n",
    "            y_hat = y_hat.transpose(1, 2)\n",
    "            loss = loss_function(y_hat, y)\n",
    "            total_loss += loss.item()\n",
    "        ppl = math.exp(total_loss / len(data_loader))\n",
    "        return ppl\n",
    "\n",
    "def remove_special_tokens(seq):\n",
    "    return [token for token in seq if token not in [BOS_TOKEN, PAD_TOKEN]]\n",
    "\n",
    "def display_audio(seq):\n",
    "    seq = remove_special_tokens(seq)\n",
    "    decode_midi(seq, \"data/music_out/tmp.mid\")\n",
    "    stream = converter.parse(\"data/music_out/tmp.mid\")\n",
    "    stream.show(\"midi\")"
   ]
  },
  {
   "cell_type": "code",
   "execution_count": 153,
   "metadata": {},
   "outputs": [],
   "source": [
    "NUM_LAYERS = 2\n",
    "EMBEDDING_DIM = 64\n",
    "HIDDEN_DIM = 256\n",
    "NUM_EPOCHS = 250\n",
    "LEARNING_RATE = 1e-3\n",
    "BATCH_SIZE = 256\n",
    "CLIPPING_THRESHOLD = 1.0\n",
    "DROPOUT = 0.5\n",
    "\n",
    "LOG_EVERY_N = 1\n",
    "VAL_EVERY_N = 10\n",
    "SAVE_EVERY_N = 10"
   ]
  },
  {
   "cell_type": "code",
   "execution_count": 154,
   "metadata": {},
   "outputs": [],
   "source": [
    "train_loader = DataLoader(\n",
    "    train_data,\n",
    "    batch_size=BATCH_SIZE,\n",
    "    shuffle=True,\n",
    "    num_workers=2,\n",
    "    collate_fn=torch.stack,\n",
    ")\n",
    "val_loader = DataLoader(\n",
    "    val_data,\n",
    "    batch_size=BATCH_SIZE,\n",
    "    shuffle=False,\n",
    "    num_workers=2,\n",
    "    collate_fn=torch.stack,\n",
    ")"
   ]
  },
  {
   "cell_type": "code",
   "execution_count": 155,
   "metadata": {},
   "outputs": [],
   "source": [
    "model = MusicRNN(\n",
    "    embedding_dim=EMBEDDING_DIM,\n",
    "    hidden_dim=HIDDEN_DIM,\n",
    "    vocab_size=VOCAB_SIZE,\n",
    "    rnn_type=\"lstm\",\n",
    "    num_layers=NUM_LAYERS,\n",
    "    dropout=DROPOUT,\n",
    ").to(device)\n",
    "loss_function = nn.CrossEntropyLoss(ignore_index=PAD_TOKEN)\n",
    "optimizer = torch.optim.Adam(model.parameters(), lr=LEARNING_RATE)"
   ]
  },
  {
   "cell_type": "code",
   "execution_count": 156,
   "metadata": {},
   "outputs": [
    {
     "name": "stdout",
     "output_type": "stream",
     "text": [
      "MusicRNN(\n",
      "  (embeddings): Embedding(390, 64)\n",
      "  (rnn): LSTM(64, 256, num_layers=2, batch_first=True, dropout=0.5)\n",
      "  (fc): Linear(in_features=256, out_features=390, bias=True)\n",
      ")\n"
     ]
    }
   ],
   "source": [
    "print(model)"
   ]
  },
  {
   "cell_type": "code",
   "execution_count": 157,
   "metadata": {},
   "outputs": [],
   "source": [
    "now = datetime.now().strftime(\"%Y-%m-%d_%H:%M\")\n",
    "exp_name = (\n",
    "    f\"{model.rnn_type}({EMBEDDING_DIM},{HIDDEN_DIM}),\"\n",
    "    f\"lr={LEARNING_RATE},bsz={BATCH_SIZE},nepochs={NUM_EPOCHS},\"\n",
    "    f\"sl={SEQ_LEN},dropout={DROPOUT},t={now}\"\n",
    ")\n",
    "writer = SummaryWriter(f\"runs/{exp_name}\")"
   ]
  },
  {
   "cell_type": "code",
   "execution_count": null,
   "metadata": {},
   "outputs": [
    {
     "data": {
      "application/vnd.jupyter.widget-view+json": {
       "model_id": "8cf9ea0da0d14faf8fc8b2d446432476",
       "version_major": 2,
       "version_minor": 0
      },
      "text/plain": [
       "HBox(children=(FloatProgress(value=0.0, max=250.0), HTML(value='')))"
      ]
     },
     "metadata": {},
     "output_type": "display_data"
    },
    {
     "name": "stdout",
     "output_type": "stream",
     "text": [
      "temp=1.0, topk=32\n"
     ]
    },
    {
     "data": {
      "text/html": [
       "\n",
       "                <div id='midiPlayerDiv63330'></div>\n",
       "                <link rel=\"stylesheet\" href=\"//cuthbertLab.github.io/music21j/css/m21.css\"\n",
       "                    type=\"text/css\" />\n",
       "                <script>\n",
       "                require.config({\n",
       "                    paths: {'music21': '//cuthbertLab.github.io/music21j/src/music21'}\n",
       "                });\n",
       "                require(['music21'], function() {\n",
       "                               mp = new music21.miditools.MidiPlayer();\n",
       "                               mp.addPlayer('#midiPlayerDiv63330');\n",
       "                               mp.base64Load('data:audio/midi;base64,TVRoZAAAAAYAAQABBABNVHJrAAAE8gD/AwAA4ABAAMAAAP9RAwehIAD/WAQEAhgIiACQQHQAkEhgAJBIYIYAkDFkAJA9UACQQlyCAIBIAIIAkDhUgyuAQABVgDEAhACAOACBK4A9AIIAkEpwggCASgCCVYA+AACQOVAAkDlQAJA+WIMrgEgAAJBNcIJVkD5QAJA/WACQQDiCAIA5AIIAkD1khACAPwAAgEAAhACAPQCJK5AyWACQRzwAkEc8VYA5AIMrgEcAVZAwZACQSVSDK4BHAFWQNFiEAIA+AIErgEIAAIBNAFWQPXQAkEJcAJBCXACQSmwAkEpsAJA/YACQQlwAkENwAJBKbIJVgD8AgyuQPlQAkEFkAJBLVACQS1SCAIBJAACAPQAAgEIAAIBCAACASgAAgEoAAIBCAIMrgD4AVYA6AACQOlAAkD1MggCAQQAAgEsAAIBLAIIAkERgggCAQwCCAIA9AACQTWwAkDtUhACARACEAIA7AACQRUwAkEVMhACANAAAgEoAhACARQAAkDhcAJA8VACQPlCCVYA8AIMrgD4AggCATQAAgDgAAJA9XACQPVwAkD9gAJA+UIJVkDRIglaQSHSCVYA9AACAPQAAgD8AglaASACCVZA6XACQPGQAkENUhFWAPgBVkEhUglaAQwCCVZA3VACQQViCVYBIAIJWkDlQAJBDTACQSGSCAIA8AFWARQAAgEEAAJA/UIErgDoAglWANwAAkD5YAJBETACQSXwAkD5YAJBCYFWAMABWgEgAVYA/AACQTlSBK4BDAIIAgDkAglWAPgAAgEQAAIBJAACQPEgAkEBMAJBFfIJVgEUAgSuAPgAAgDwAglWQN0gAkDdIAJA6WIQAgEIAAIBAAIQAgDcAAIA3AACAOgCDK5A8UACQPFCEVZA1UIJWkEVQAJBFUFWAPACCAJA7UIIAgDwAVYA1AIJWgEUAAIBFAFWQOUyCAIA5AIIAkD1UAJA+QACQPkAAkEBUhACAPgCCAJBGWIIAgD0AAIA+AIJVgDQAgyuQP1AAkEN4gSuAMgCBKoA/AIErgDsAhACAQACCAJBCRACQSnSDK4BDAFWQPlAAkD9QhACARgAAgEIAggCQR1SCAJA7SACQSViDK4BHAFWQQEgAkEFYAJBHUACQQVgAkENUAJBHUIIAgEEAggCASQCEAIBKAACAQAAAgEEAAIBHAIIAgD4AgSuQOGAAkD5MAJBGXIIAgD4AVYBHAIYAgEMAAJBDUIErgEMAVYBGAIIAkDpIAJBAQACQPmSCAIA/AIYAgDoAAIBAAACQMVQAkDNYgyuQPEwAkENoAJBDaACQQ2iCAIA+AIJVgDEAgyuAQwAAgEMAAIBDAACQSliCVYBOAIJVkDBUAJA1WACQOlCCVoA8AIJVkEc8hACQOVwAkDxYAJBEZACQPFhVgDMAVYA6AAGAOACCVZA+UIMrgDsAVYA8AACARACCAJA2QACQQXCGAIA5AACQPWCBK4A+AFWAQQCCAJA3cFWANQCCAIBHAACQOGgAkDtUAJA/TACQQkyBK4A9AIIAgDYAAJA6TACQOkyCVYAwAIIAgEIAgyuAOgCDK4A8AFWQOVAAkD5QggCAOgAAgD4AggCQS2CCVYBLAIErgDkAVZBDVIJWgDcAhSqAQwCGAIA7AIErkDpMAJBDVIQAgEMAVYA/AIQAgDgAVoBKAFWAOgCIAP8vAA==');\n",
       "                        });\n",
       "                </script>"
      ],
      "text/plain": [
       "<IPython.core.display.HTML object>"
      ]
     },
     "metadata": {},
     "output_type": "display_data"
    },
    {
     "name": "stdout",
     "output_type": "stream",
     "text": [
      "argmax=True\n"
     ]
    },
    {
     "data": {
      "text/html": [
       "\n",
       "                <div id='midiPlayerDiv63928'></div>\n",
       "                <link rel=\"stylesheet\" href=\"//cuthbertLab.github.io/music21j/css/m21.css\"\n",
       "                    type=\"text/css\" />\n",
       "                <script>\n",
       "                require.config({\n",
       "                    paths: {'music21': '//cuthbertLab.github.io/music21j/src/music21'}\n",
       "                });\n",
       "                require(['music21'], function() {\n",
       "                               mp = new music21.miditools.MidiPlayer();\n",
       "                               mp.addPlayer('#midiPlayerDiv63928');\n",
       "                               mp.base64Load('data:audio/midi;base64,TVRoZAAAAAYAAQABBABNVHJrAAAEsgD/AwAA4ABAAMAAAP9RAwehIAD/WAQEAhgIjACQPVQAkD1UAJA9VACQPlQAkD5UAJA+VIIAkD1UAJA9VACQPVQAkD5UAJA+VACQPlSCAIA+AACQPVQAkD1UAJA9VACQPlQAkD5UglWQPVQAkD1UAJA9VACQPlQAkD5UAJA+VIErgD0AAIA9AACAPQAAgD4AAIA+AACAPgAAkD1UAJA9VACQPVQAkD5UAJA+VFWAPgCBK4A9AACAPQAAgD0AAIA+AACAPgAAkDxUAJA8VACQPFQAkDxUAJA8VACQPFQAkD1UAJA9VACQPVQAkD5UAJA+VACQPlQAkD5UggCAPQAAgD0AAIA9AACAPgAAgD4AAIA+AIIAkD1UAJA9VACQPlQAkD5UAJA+VACQPlRVgD0AAIA9AACAPQAAgD4AAIA+AIErgD0AAIA9AACAPQAAgD4AAIA+AACAPgAAkD1UAJA9VACQPVQAkD5UAJA+VIIAgDwAAIA8AACAPAAAgDwAAIA8AACAPAAAgD0AAIA9AACAPQAAgD4AAIA+AACAPgAAkD1UAJA9VACQPVQAkD5UAJA+VACQPlSCAIA+AACQPVQAkD1UAJA9VACQPlQAkD5UggCAPQAAgD0AAIA+AACAPgAAgD4AAJA8VACQPFQAkDxUAJA8VACQPFQAkDxUAJA9VACQPVQAkD1UAJA+VACQPlQAkD5UAJA+VIIAgD0AAIA9AACAPQAAgD4AAIA+AACAPgAAkD1UAJA9VACQPlQAkD5UAJA+VACQPlSCAIA9AACAPQAAgD0AAIA+AACAPgAAgD4AggCAPQAAgD0AAIA9AACAPgAAgD4AAJA9VACQPVQAkD1UAJA+VACQPlSCAIA8AACAPAAAgDwAAIA8AACAPAAAgDwAAIA9AACAPQAAgD0AAIA+AACAPgAAgD4AAJA9VACQPVQAkD1UAJA+VACQPlQAkD5UggCAPQAAgD0AAIA+AACAPgAAgD4AAIA+AACQPVQAkD1UAJA9VACQPlQAkD5UgSuQPFQAkDxUAJA8VACQPFQAkDxUAJA8VACQPVQAkD1UAJA9VACQPlQAkD5UAJA+VACQPlSCAIA+AFWAPQAAgD0AAIA9AACAPgAAgD4AAJA9VACQPVQAkD5UAJA+VACQPlQAkD5UggCAPQAAgD0AAIA9AACAPgAAgD4AAIA+AFWQPVQAkD1UAJA9VACQPlQAkD5UgSuAPQAAgD0AAIA9AACAPgAAgD4AAJA9VACQPVQAkD1UAJA+VACQPlQAkD5UgSuAPAAAgDwAAIA8AACAPAAAgDwAAIA8AACAPQAAgD0AAIA9AACAPgAAgD4AAIA+AFWAPgAAkD1UAJA9VACQPVQAkD5UAJA+VIIAgD0AAIA9AACAPgAAgD4AAIA+AACQPFQAkDxUAJA9VACQPVQAkD1UAJA+VACQPlQAkD5UAJA+VIIAgD4AVYA9AACAPQAAgD0AAIA+AACAPgCBK4A9AACAPQAAgD0AAIA+AACAPgAAgD0AAJA9VIIAgD0AAIA9AACAPQAAgD4AAIA+AIIAgDwAAIA8AACAPQAAgD0AAIA9AACAPgAAgD4AAIA+AIgA/y8A');\n",
       "                        });\n",
       "                </script>"
      ],
      "text/plain": [
       "<IPython.core.display.HTML object>"
      ]
     },
     "metadata": {},
     "output_type": "display_data"
    },
    {
     "name": "stdout",
     "output_type": "stream",
     "text": [
      "temp=1.0, topk=32\n"
     ]
    },
    {
     "data": {
      "text/html": [
       "\n",
       "                <div id='midiPlayerDiv65796'></div>\n",
       "                <link rel=\"stylesheet\" href=\"//cuthbertLab.github.io/music21j/css/m21.css\"\n",
       "                    type=\"text/css\" />\n",
       "                <script>\n",
       "                require.config({\n",
       "                    paths: {'music21': '//cuthbertLab.github.io/music21j/src/music21'}\n",
       "                });\n",
       "                require(['music21'], function() {\n",
       "                               mp = new music21.miditools.MidiPlayer();\n",
       "                               mp.addPlayer('#midiPlayerDiv65796');\n",
       "                               mp.base64Load('data:audio/midi;base64,TVRoZAAAAAYAAQABBABNVHJrAAAFMQD/AwAA4ABAAMAAAP9RAwehIAD/WAQEAhgIigCQKVQAkDxAAJBIdIQAkDdshACASACDK5A+WACQQ2RVgDcAggCAPAAAgD4AgSuAQwBVkDxEhgCQSFyCAIA8AIMrkDdUAJA+XIJVgEgAgSuANwCBKoA3AACQN1wAkDxcAJA3XACQPFwBgD4AhSqQOWQAkEBUAJBAVACQT2CCVYA3AACAPACBK4BPAIJVgDwAgSuAOQAAgEAAAIBAAACQMmyIAJBDRACQRViCAIAyAIYAkDlchACQPmgAkE9khACAOQAAgD4AAJArVACQN1SEAIBDAACAPgAAkD5MAJBDYIJVgEMAgSuAKwAAgDcAAJBKaIIAgE8AVZA3XACQQ2SCVYBDAIUrgDcAAJBBYACQQ1CBK4BFAIEqgEMAVpBDcACQSGAAkEhgggCAQwCCAIApAACQN2AAkDxgAJBDZIIAgDcAggCASAAAkDBchACAPAAAgEMAggCQK1gAkDdUggCAMAAAkDxUhSuASABVgCsAAIA8AIEqgEEAAZAwTACQQ2RVgDcAgyuAQwBVkDdYAJA3WIMrgDAAhFWASgAAgDcAAIA3AFWQPGQAkDxkAJA/YIMrkEVgAJBFYACQRWCEVYA8AIMrgEUAAIBFAACQPlQAkEN0AJBDdFWAPACEAJArWACQQngAkEpsgyuAPgAAgEMAAIBDAACQPFyCAIA8AIJVgEIAAIBKAIErkDdYAJBGZACQRmSCAIBFAIIAkDVYAJA1WIQAgDcAAIBGAIIAkDBUAJA6VIIAgDUAggCQQVSEAIA6AIErgEEAVYBGAIIAkDxUAJBBVACQQVRVgD8AgyuAPAAAkENQggCANQCCAIBBAACAQQBVkDxcgyuAQwCCVYAwAIErkClIAJA3WACQKUgAkDxgVYA8AIErgDwAggCQNVAAkD5IggCAPgCCAIApAACANwAAgDkAAIA+AACQOVAAkD5kggCQTFgAkE9QggCANQCGAIBPAIIAgEwAVYArAIErkDlYAJA8WACQSGSEAIA5AACAPACEAIBIAACQLVQAkC1UAJA5VACQQ2QAkENkAJA5VACQQ2SEAJBAXIQAgC0AAIAtAACAOQAAgEMAAIBDAACQN0wAkDxQggCAKQBVgDkAglaQMmAAkDJgAJAyYFWAQwCCAIA3AACAPAAAkD5cglWAPgABgDIAgSqQPlgAkEVYgSuAMgAAgDIAgSqAPgCDK4BAAFWQPlgAkExwAJBMcACQTHCFK5A5VIJVgEwAAIBMAACATACBK4BFAACQOVAAkD1UAJBKXIQAgDkAAIA5AIQAgEoAiACAPQAAkDlAAJBRWIRVgD4AgyuAUQAAgD0AAJA6WACQPVCCAIA5AIIAkDlYAJA+YIErgDoAgSqAOQCCVoBJAACQNlAAkElchlWQQmAAkEJggSuANgCCVYA+AIIAkDlYAJA5WIIAgEIAAIBCAACAOQAAkD5QAJBFWACQRViEAIBFAACQQFgAkEdUggCAOQCCAIA+AACARQAAkDRQggCQSGyCAIBAAACASAAAkC1YhACQQFyCAJA5WIIAgC0AhACAQAAAkEBUggCAOQAAkDtcggCANAAAgEAAhACQNFiCAIA7AIYAkEBMhACANAAAkD5UgSuAQACGVYA+AACQRUyEAJBMWIIAgEcAVYBMAIErgEUAAJA5WACQTFCEAIBMAIErkENQAJBPcACQR0SCVYA5AIErgEMAAIBPAIEqgDIAAIA+AACQMlAAkD5QglaARwCIAP8vAA==');\n",
       "                        });\n",
       "                </script>"
      ],
      "text/plain": [
       "<IPython.core.display.HTML object>"
      ]
     },
     "metadata": {},
     "output_type": "display_data"
    },
    {
     "name": "stdout",
     "output_type": "stream",
     "text": [
      "argmax=True\n"
     ]
    },
    {
     "data": {
      "text/html": [
       "\n",
       "                <div id='midiPlayerDiv66010'></div>\n",
       "                <link rel=\"stylesheet\" href=\"//cuthbertLab.github.io/music21j/css/m21.css\"\n",
       "                    type=\"text/css\" />\n",
       "                <script>\n",
       "                require.config({\n",
       "                    paths: {'music21': '//cuthbertLab.github.io/music21j/src/music21'}\n",
       "                });\n",
       "                require(['music21'], function() {\n",
       "                               mp = new music21.miditools.MidiPlayer();\n",
       "                               mp.addPlayer('#midiPlayerDiv66010');\n",
       "                               mp.base64Load('data:audio/midi;base64,TVRoZAAAAAYAAQABBABNVHJrAAAE6QD/AwAA4ABAAMAAAP9RAwehIAD/WAQEAhgIigCQPlAAkD5QAJA+UACQPlAAkD5QAJA+UACQPlAAkD5QgyuQPlAAkD5QAJA+UACQPlAAkD5QAJA+UACQPlAAkD5QglWQPlAAkD5QAJA+UACQPlAAkD5QAJA+UACQPlAAkD5QggCAPgAAgD4AAIA+AACAPgAAgD4AAIA+AACAPgAAgD4AVZA+UACQPlAAkD5QAJA+UACQPlAAkD5QAJA+UACQPlCCVoA+AACAPgAAgD4AAIA+AACAPgAAgD4AAIA+AACAPgBVkD5QAJA+UACQPlAAkD5QAJA+UACQPlAAkD5QAJA+UIIAgD4AAIA+AACAPgAAgD4AAIA+AACAPgAAgD4AAIA+AACQPlAAkD5QAJA+UACQPlAAkD5QAJA+UACQPlAAkD5QglWAPgAAgD4AAIA+AACAPgAAgD4AAIA+AACAPgAAgD4AgSuQPlAAkD5QAJA+UACQPlAAkD5QAJA+UACQPlAAkD5QggCAPgAAgD4AAIA+AACAPgAAgD4AAIA+AACAPgAAgD4AAJA+UACQPlAAkD5QAJA+UACQPlAAkD5QAJA+UACQPlCCAIA+AACAPgAAgD4AAIA+AACAPgAAgD4AAIA+AACAPgCCAJA+UACQPlAAkD5QAJA+UACQPlAAkD5QAJA+UACQPlCCAIA+AACAPgAAgD4AAIA+AACAPgAAgD4AAIA+AACAPgAAkD5QAJA+UACQPlAAkD5QAJA+UACQPlAAkD5QAJA+UIIAgD4AAIA+AACAPgAAgD4AAIA+AACAPgAAgD4AAIA+AIIAkD5QAJA+UACQPlAAkD5QAJA+UACQPlAAkD5QAJA+UIIAgD4AAIA+AACAPgAAgD4AAIA+AACAPgAAgD4AAIA+AACQPlAAkD5QAJA+UACQPlAAkD5QAJA+UACQPlAAkD5QggCAPgAAgD4AAIA+AACAPgAAgD4AAIA+AACAPgAAgD4AgSuQPlAAkD5QAJA+UACQPlAAkD5QAJA+UACQPlAAkD5QglWAPgAAgD4AAIA+AACAPgAAgD4AAIA+AACAPgAAgD4AAJA+UACQPlAAkD5QAJA+UACQPlAAkD5QAJA+UACQPlCCAIA+AACAPgAAgD4AAIA+AACAPgAAgD4AAIA+AACAPgBVkD5QAJA+UACQPlAAkD5QAJA+UACQPlAAkD5QAJA+UIJWgD4AAIA+AACAPgAAgD4AAIA+AACAPgAAgD4AAIA+AACQPlAAkD5QAJA+UACQPlAAkD5QAJA+UACQPlAAkD5QglWAPgAAgD4AAIA+AACAPgAAgD4AAIA+AACAPgAAgD4AAJA+UACQPlAAkD5QAJA+UACQPlAAkD5QAJA+UACQPlCCVYA+AACAPgAAgD4AAIA+AACAPgAAgD4AAIA+AACAPgAAkD5QAJA+UACQPlAAkD5QAJA+UACQPlAAkD5QAJA+UIJWgD4AAIA+AACAPgAAgD4AAIA+AACAPgAAgD4AAIA+AFWQPlAAkD5QAJA+UACQPlAAkD5QAJA+UIIAgD4AAIA+AACAPgAAgD4AAIA+AACAPgAAgD4AAIA+AIJVgD4AAIA+AACAPgAAgD4AAIA+AACAPgAAgD4AAIA+AIMrgD4AAIA+AACAPgAAgD4AAIA+AACAPgCIAP8vAA==');\n",
       "                        });\n",
       "                </script>"
      ],
      "text/plain": [
       "<IPython.core.display.HTML object>"
      ]
     },
     "metadata": {},
     "output_type": "display_data"
    }
   ],
   "source": [
    "for epoch in trange(1, NUM_EPOCHS + 1):\n",
    "    model.train()\n",
    "    total_loss = 0.0\n",
    "    for batch in train_loader:\n",
    "        # Move to GPU if available.\n",
    "        batch = batch.to(device)\n",
    "\n",
    "        # Reset gradients.\n",
    "        model.zero_grad()\n",
    "\n",
    "        # Prepare inputs and targets.\n",
    "        x = batch[:, :-1]\n",
    "        y = batch[:, 1:]\n",
    "                \n",
    "        # Forward prop.\n",
    "        y_hat = model(x)\n",
    "        \n",
    "        # Swap token dim and output dim.\n",
    "        y_hat = y_hat.transpose(1, 2)\n",
    "        \n",
    "        # Compute loss.\n",
    "        loss = loss_function(y_hat, y)\n",
    "        total_loss += loss.item()\n",
    "\n",
    "        # Back prop.\n",
    "        loss.backward()\n",
    "        \n",
    "        # Clip gradients.\n",
    "        clip_grad_norm_(model.parameters(), CLIPPING_THRESHOLD)\n",
    "        \n",
    "        # Update parameters.\n",
    "        optimizer.step()\n",
    "        \n",
    "    if epoch % LOG_EVERY_N == 0:\n",
    "        avg_loss = total_loss / len(train_loader)  # per token loss\n",
    "        writer.add_scalar(\"train_loss\", avg_loss, global_step=epoch)\n",
    "        \n",
    "        train_ppl = math.exp(avg_loss)\n",
    "        writer.add_scalar(\"train_ppl\", train_ppl, global_step=epoch)\n",
    "\n",
    "    if epoch % VAL_EVERY_N == 0:\n",
    "        val_ppl = validate(model, val_loader)\n",
    "        writer.add_scalar(\"val_ppl\", val_ppl, global_step=epoch)\n",
    "        generate_sequence(model, temp=1.0, topk=32);\n",
    "\n",
    "    if epoch % SAVE_EVERY_N == 0:\n",
    "        state_checkpoint = {\n",
    "            \"epoch\": epoch,\n",
    "            \"model_state_dict\": model.state_dict(),\n",
    "            \"optimizer_state_dict\": optimizer.state_dict(),\n",
    "        }\n",
    "        torch.save(state_checkpoint, f\"models/ckpt_{epoch}.pt\")"
   ]
  },
  {
   "cell_type": "markdown",
   "metadata": {},
   "source": [
    "## Generating music"
   ]
  },
  {
   "cell_type": "markdown",
   "metadata": {},
   "source": [
    "First, let's generate some music from scratch."
   ]
  },
  {
   "cell_type": "code",
   "execution_count": 188,
   "metadata": {},
   "outputs": [
    {
     "data": {
      "text/html": [
       "\n",
       "                <div id='midiPlayerDiv155093'></div>\n",
       "                <link rel=\"stylesheet\" href=\"//cuthbertLab.github.io/music21j/css/m21.css\"\n",
       "                    type=\"text/css\" />\n",
       "                <script>\n",
       "                require.config({\n",
       "                    paths: {'music21': '//cuthbertLab.github.io/music21j/src/music21'}\n",
       "                });\n",
       "                require(['music21'], function() {\n",
       "                               mp = new music21.miditools.MidiPlayer();\n",
       "                               mp.addPlayer('#midiPlayerDiv155093');\n",
       "                               mp.base64Load('data:audio/midi;base64,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');\n",
       "                        });\n",
       "                </script>"
      ],
      "text/plain": [
       "<IPython.core.display.HTML object>"
      ]
     },
     "metadata": {},
     "output_type": "display_data"
    }
   ],
   "source": [
    "seq = model.generate_sequence(temp=1.0, topk=32)\n",
    "display_audio(seq)"
   ]
  },
  {
   "cell_type": "markdown",
   "metadata": {},
   "source": [
    "Next, let's use a priming sequence from our test set."
   ]
  },
  {
   "cell_type": "code",
   "execution_count": 187,
   "metadata": {},
   "outputs": [
    {
     "data": {
      "text/html": [
       "\n",
       "                <div id='midiPlayerDiv152466'></div>\n",
       "                <link rel=\"stylesheet\" href=\"//cuthbertLab.github.io/music21j/css/m21.css\"\n",
       "                    type=\"text/css\" />\n",
       "                <script>\n",
       "                require.config({\n",
       "                    paths: {'music21': '//cuthbertLab.github.io/music21j/src/music21'}\n",
       "                });\n",
       "                require(['music21'], function() {\n",
       "                               mp = new music21.miditools.MidiPlayer();\n",
       "                               mp.addPlayer('#midiPlayerDiv152466');\n",
       "                               mp.base64Load('data:audio/midi;base64,TVRoZAAAAAYAAQABBABNVHJrAAADNAD/AwAA4ABAAMAAAP9RAwehIAD/WAQEAhgImgCQTFCCAIBMAACQTUiCAIBNAACQMFQAkE9QglWATwCCAJA3SACQPEQAkEBIAJBYTFaAMACBKoA3AACAPAAAgEAAAIBYAIMrkCtEAJBUUIIAgFQAggCQN0gAkDxIAJBARACQT1CBK4ArAFWANwAAgDwAAIBAAACATwCCAJAwRACQTFSCAIBMAFWQTUSBK4BMAACQTDiBKoBNAAGQN0gAkDxIAJBASACQTTxVgDAAgSuANwAAgDwAAIBAAACATQBVgEwAAJBMTACQTUCCAIBNAACQTEgAkCtIVZBNSIErgEwAAJBMSFWATQCBK4BMAACQN0gAkDxIAJBATACQSlCCAIArAACASgAAkExMVYA3AACAPAAAgEAAgSuATABVkCtIAJBNTIIAgE0AgyuAKwAAkDdIAJA7SACQPkgAkFZUggCAVgBVgDcAAIA7AACAPgCBK5AyRACQU1CCAIBTAIIAkDdIAJA7SACQPkgAkE1IggCAMgAAgDcAAIA7AACAPgAAgE0AggCQSlCBK5ArSACQTEhVgEoAgSuATABVkEpIAJBMSIIAgEoAAIBMAACQSkgAkDdIAJA7SACQPkhVkExEAYArAIEqgEoAAJBKTFWANwAAgDsAAIA+AACATACBK4BKAACATAAAkExIAJAySIIAkEpIAJBMTIIAgEoAAIBMAACASgAAkEpAggCAMgAAkDdIAJA7SACQPkQAkEhUgSuQSlRVgDcAAIA7AACAPgAAgEgAgSuASgBVkDBMAJA3SACQPEgAkEBMAJBMVIIAgEwAVYA3AACAPACBK4BAAACQSkyCAIBKAACQTEiCAIAwAACATAAAkDJMAJBBSACQOUQAkD5IAJBNTIIAgE0AgyuQTExVgDIAAIBBAACAOQAAgD4AgSuATABVkE1IggCATQAAkDRMAJA7RACQQEgAkENEAJBPTIIAgE8AggCQTUyCAIA7AACAQAAAgEMAAIBNAACQT0yCAIA0AACATwBVkDlEAJA8SACQQEwAkFFIggCAUQCDK5BPTFWAOQAAgDwAAIBAAIErgE8AiAD/LwA=');\n",
       "                        });\n",
       "                </script>"
      ],
      "text/plain": [
       "<IPython.core.display.HTML object>"
      ]
     },
     "metadata": {},
     "output_type": "display_data"
    }
   ],
   "source": [
    "FIRST_N = 400\n",
    "\n",
    "primer = test_songs[-1][:FIRST_N].tolist()\n",
    "display_audio(primer)"
   ]
  },
  {
   "cell_type": "code",
   "execution_count": 195,
   "metadata": {},
   "outputs": [
    {
     "data": {
      "text/html": [
       "\n",
       "                <div id='midiPlayerDiv172060'></div>\n",
       "                <link rel=\"stylesheet\" href=\"//cuthbertLab.github.io/music21j/css/m21.css\"\n",
       "                    type=\"text/css\" />\n",
       "                <script>\n",
       "                require.config({\n",
       "                    paths: {'music21': '//cuthbertLab.github.io/music21j/src/music21'}\n",
       "                });\n",
       "                require(['music21'], function() {\n",
       "                               mp = new music21.miditools.MidiPlayer();\n",
       "                               mp.addPlayer('#midiPlayerDiv172060');\n",
       "                               mp.base64Load('data:audio/midi;base64,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');\n",
       "                        });\n",
       "                </script>"
      ],
      "text/plain": [
       "<IPython.core.display.HTML object>"
      ]
     },
     "metadata": {},
     "output_type": "display_data"
    }
   ],
   "source": [
    "continuation = model.generate_sequence(primer, temp=1.0, topk=128)\n",
    "display_audio(continuation)"
   ]
  },
  {
   "cell_type": "code",
   "execution_count": null,
   "metadata": {},
   "outputs": [],
   "source": []
  }
 ],
 "metadata": {
  "kernelspec": {
   "display_name": "Python 3",
   "language": "python",
   "name": "python3"
  },
  "language_info": {
   "codemirror_mode": {
    "name": "ipython",
    "version": 3
   },
   "file_extension": ".py",
   "mimetype": "text/x-python",
   "name": "python",
   "nbconvert_exporter": "python",
   "pygments_lexer": "ipython3",
   "version": "3.7.6"
  }
 },
 "nbformat": 4,
 "nbformat_minor": 4
}
