{
 "cells": [
  {
   "cell_type": "code",
   "execution_count": 21,
   "metadata": {},
   "outputs": [],
   "source": [
    "%load_ext autoreload\n",
    "%autoreload 2"
   ]
  },
  {
   "cell_type": "code",
   "execution_count": 62,
   "metadata": {},
   "outputs": [],
   "source": [
    "import glob\n",
    "import os\n",
    "import random\n",
    "\n",
    "import nesmdb\n",
    "import pretty_midi\n",
    "from IPython.display import display, Audio\n",
    "from tqdm.notebook import tqdm\n",
    "\n",
    "from utils import preprocessing as prepro"
   ]
  },
  {
   "cell_type": "code",
   "execution_count": 46,
   "metadata": {},
   "outputs": [],
   "source": [
    "MIDI_ROOT_DIR = \"data/nesmdb_midi\"\n",
    "MIDI_TRAIN_DIR = f\"{MIDI_ROOT_DIR}/train\"\n",
    "MIDI_VALID_DIR = f\"{MIDI_ROOT_DIR}/valid\"\n",
    "MIDI_TEST_DIR = f\"{MIDI_ROOT_DIR}/test\"\n",
    "\n",
    "OUT_ROOT_DIR = \"data/nesmdb_event\"\n",
    "OUT_TRAIN_DIR = f\"{OUT_ROOT_DIR}/train\"\n",
    "OUT_VALID_DIR = f\"{OUT_ROOT_DIR}/valid\"\n",
    "OUT_TEST_DIR = f\"{OUT_ROOT_DIR}/test\""
   ]
  },
  {
   "cell_type": "code",
   "execution_count": 54,
   "metadata": {},
   "outputs": [
    {
     "name": "stdout",
     "output_type": "stream",
     "text": [
      "Train set files: 4502\n",
      "Validation set files: 403\n",
      "Test set files: 373\n"
     ]
    }
   ],
   "source": [
    "train_files = glob.glob(f\"{MIDI_TRAIN_DIR}/*.mid\")\n",
    "valid_files = glob.glob(f\"{MIDI_VALID_DIR}/*.mid\")\n",
    "test_files = glob.glob(f\"{MIDI_TEST_DIR}/*.mid\")\n",
    "\n",
    "print(f\"Train set files: {len(train_files)}\")\n",
    "print(f\"Validation set files: {len(valid_files)}\")\n",
    "print(f\"Test set files: {len(test_files)}\")"
   ]
  },
  {
   "cell_type": "code",
   "execution_count": 63,
   "metadata": {},
   "outputs": [],
   "source": [
    "os.makedirs(OUT_TRAIN_DIR, exist_ok=True)\n",
    "os.makedirs(OUT_VALID_DIR, exist_ok=True)\n",
    "os.makedirs(OUT_TEST_DIR, exist_ok=True)"
   ]
  },
  {
   "cell_type": "code",
   "execution_count": 64,
   "metadata": {},
   "outputs": [
    {
     "data": {
      "application/vnd.jupyter.widget-view+json": {
       "model_id": "2ff219a2216444c9ad8c5121f5cd5b1b",
       "version_major": 2,
       "version_minor": 0
      },
      "text/plain": [
       "HBox(children=(HTML(value=''), FloatProgress(value=0.0, max=4502.0), HTML(value='')))"
      ]
     },
     "metadata": {},
     "output_type": "display_data"
    },
    {
     "name": "stdout",
     "output_type": "stream",
     "text": [
      "\n"
     ]
    }
   ],
   "source": [
    "for file in tqdm(train_files):\n",
    "    prepro.convert_midi_file(file, outdir=OUT_TRAIN_DIR)"
   ]
  },
  {
   "cell_type": "code",
   "execution_count": 65,
   "metadata": {},
   "outputs": [
    {
     "data": {
      "application/vnd.jupyter.widget-view+json": {
       "model_id": "c08733bbb1cb425b9f87384eed00bd37",
       "version_major": 2,
       "version_minor": 0
      },
      "text/plain": [
       "HBox(children=(HTML(value=''), FloatProgress(value=0.0, max=403.0), HTML(value='')))"
      ]
     },
     "metadata": {},
     "output_type": "display_data"
    },
    {
     "name": "stdout",
     "output_type": "stream",
     "text": [
      "\n"
     ]
    }
   ],
   "source": [
    "for file in tqdm(valid_files):\n",
    "    prepro.convert_midi_file(file, outdir=OUT_VALID_DIR)"
   ]
  },
  {
   "cell_type": "code",
   "execution_count": null,
   "metadata": {},
   "outputs": [
    {
     "data": {
      "application/vnd.jupyter.widget-view+json": {
       "model_id": "26af881a951c405eae80c6eae1183137",
       "version_major": 2,
       "version_minor": 0
      },
      "text/plain": [
       "HBox(children=(HTML(value=''), FloatProgress(value=0.0, max=373.0), HTML(value='')))"
      ]
     },
     "metadata": {},
     "output_type": "display_data"
    }
   ],
   "source": [
    "for file in tqdm(test_files):\n",
    "    prepro.convert_midi_file(file, outdir=OUT_TEST_DIR)"
   ]
  },
  {
   "cell_type": "code",
   "execution_count": null,
   "metadata": {},
   "outputs": [],
   "source": []
  },
  {
   "cell_type": "code",
   "execution_count": null,
   "metadata": {},
   "outputs": [],
   "source": []
  },
  {
   "cell_type": "code",
   "execution_count": null,
   "metadata": {},
   "outputs": [],
   "source": []
  }
 ],
 "metadata": {
  "kernelspec": {
   "display_name": "Python 3",
   "language": "python",
   "name": "python3"
  },
  "language_info": {
   "codemirror_mode": {
    "name": "ipython",
    "version": 3
   },
   "file_extension": ".py",
   "mimetype": "text/x-python",
   "name": "python",
   "nbconvert_exporter": "python",
   "pygments_lexer": "ipython3",
   "version": "3.7.9"
  }
 },
 "nbformat": 4,
 "nbformat_minor": 4
}
